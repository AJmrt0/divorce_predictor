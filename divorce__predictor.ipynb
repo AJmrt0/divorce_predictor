{
  "nbformat": 4,
  "nbformat_minor": 0,
  "metadata": {
    "colab": {
      "provenance": []
    },
    "kernelspec": {
      "name": "python3",
      "display_name": "Python 3"
    },
    "language_info": {
      "name": "python"
    }
  },
  "cells": [
    {
      "cell_type": "code",
      "execution_count": null,
      "metadata": {
        "id": "0MX-JEcC9vYR"
      },
      "outputs": [],
      "source": [
        "import numpy as np\n",
        "import pandas as pd\n",
        "import matplotlib.pyplot as plt\n",
        "import seaborn as sns\n",
        "import warnings\n",
        "warnings.filterwarnings('ignore')"
      ]
    },
    {
      "cell_type": "code",
      "source": [
        "from google.colab import files\n",
        "uploaded = files.upload ()"
      ],
      "metadata": {
        "colab": {
          "base_uri": "https://localhost:8080/",
          "height": 74
        },
        "id": "A2e2hkwt-7hz",
        "outputId": "b164e7b9-7366-4d4c-8230-f7bc00b8eac0"
      },
      "execution_count": null,
      "outputs": [
        {
          "output_type": "display_data",
          "data": {
            "text/plain": [
              "<IPython.core.display.HTML object>"
            ],
            "text/html": [
              "\n",
              "     <input type=\"file\" id=\"files-d50d4a29-587e-477a-ad12-58734c7f7652\" name=\"files[]\" multiple disabled\n",
              "        style=\"border:none\" />\n",
              "     <output id=\"result-d50d4a29-587e-477a-ad12-58734c7f7652\">\n",
              "      Upload widget is only available when the cell has been executed in the\n",
              "      current browser session. Please rerun this cell to enable.\n",
              "      </output>\n",
              "      <script>// Copyright 2017 Google LLC\n",
              "//\n",
              "// Licensed under the Apache License, Version 2.0 (the \"License\");\n",
              "// you may not use this file except in compliance with the License.\n",
              "// You may obtain a copy of the License at\n",
              "//\n",
              "//      http://www.apache.org/licenses/LICENSE-2.0\n",
              "//\n",
              "// Unless required by applicable law or agreed to in writing, software\n",
              "// distributed under the License is distributed on an \"AS IS\" BASIS,\n",
              "// WITHOUT WARRANTIES OR CONDITIONS OF ANY KIND, either express or implied.\n",
              "// See the License for the specific language governing permissions and\n",
              "// limitations under the License.\n",
              "\n",
              "/**\n",
              " * @fileoverview Helpers for google.colab Python module.\n",
              " */\n",
              "(function(scope) {\n",
              "function span(text, styleAttributes = {}) {\n",
              "  const element = document.createElement('span');\n",
              "  element.textContent = text;\n",
              "  for (const key of Object.keys(styleAttributes)) {\n",
              "    element.style[key] = styleAttributes[key];\n",
              "  }\n",
              "  return element;\n",
              "}\n",
              "\n",
              "// Max number of bytes which will be uploaded at a time.\n",
              "const MAX_PAYLOAD_SIZE = 100 * 1024;\n",
              "\n",
              "function _uploadFiles(inputId, outputId) {\n",
              "  const steps = uploadFilesStep(inputId, outputId);\n",
              "  const outputElement = document.getElementById(outputId);\n",
              "  // Cache steps on the outputElement to make it available for the next call\n",
              "  // to uploadFilesContinue from Python.\n",
              "  outputElement.steps = steps;\n",
              "\n",
              "  return _uploadFilesContinue(outputId);\n",
              "}\n",
              "\n",
              "// This is roughly an async generator (not supported in the browser yet),\n",
              "// where there are multiple asynchronous steps and the Python side is going\n",
              "// to poll for completion of each step.\n",
              "// This uses a Promise to block the python side on completion of each step,\n",
              "// then passes the result of the previous step as the input to the next step.\n",
              "function _uploadFilesContinue(outputId) {\n",
              "  const outputElement = document.getElementById(outputId);\n",
              "  const steps = outputElement.steps;\n",
              "\n",
              "  const next = steps.next(outputElement.lastPromiseValue);\n",
              "  return Promise.resolve(next.value.promise).then((value) => {\n",
              "    // Cache the last promise value to make it available to the next\n",
              "    // step of the generator.\n",
              "    outputElement.lastPromiseValue = value;\n",
              "    return next.value.response;\n",
              "  });\n",
              "}\n",
              "\n",
              "/**\n",
              " * Generator function which is called between each async step of the upload\n",
              " * process.\n",
              " * @param {string} inputId Element ID of the input file picker element.\n",
              " * @param {string} outputId Element ID of the output display.\n",
              " * @return {!Iterable<!Object>} Iterable of next steps.\n",
              " */\n",
              "function* uploadFilesStep(inputId, outputId) {\n",
              "  const inputElement = document.getElementById(inputId);\n",
              "  inputElement.disabled = false;\n",
              "\n",
              "  const outputElement = document.getElementById(outputId);\n",
              "  outputElement.innerHTML = '';\n",
              "\n",
              "  const pickedPromise = new Promise((resolve) => {\n",
              "    inputElement.addEventListener('change', (e) => {\n",
              "      resolve(e.target.files);\n",
              "    });\n",
              "  });\n",
              "\n",
              "  const cancel = document.createElement('button');\n",
              "  inputElement.parentElement.appendChild(cancel);\n",
              "  cancel.textContent = 'Cancel upload';\n",
              "  const cancelPromise = new Promise((resolve) => {\n",
              "    cancel.onclick = () => {\n",
              "      resolve(null);\n",
              "    };\n",
              "  });\n",
              "\n",
              "  // Wait for the user to pick the files.\n",
              "  const files = yield {\n",
              "    promise: Promise.race([pickedPromise, cancelPromise]),\n",
              "    response: {\n",
              "      action: 'starting',\n",
              "    }\n",
              "  };\n",
              "\n",
              "  cancel.remove();\n",
              "\n",
              "  // Disable the input element since further picks are not allowed.\n",
              "  inputElement.disabled = true;\n",
              "\n",
              "  if (!files) {\n",
              "    return {\n",
              "      response: {\n",
              "        action: 'complete',\n",
              "      }\n",
              "    };\n",
              "  }\n",
              "\n",
              "  for (const file of files) {\n",
              "    const li = document.createElement('li');\n",
              "    li.append(span(file.name, {fontWeight: 'bold'}));\n",
              "    li.append(span(\n",
              "        `(${file.type || 'n/a'}) - ${file.size} bytes, ` +\n",
              "        `last modified: ${\n",
              "            file.lastModifiedDate ? file.lastModifiedDate.toLocaleDateString() :\n",
              "                                    'n/a'} - `));\n",
              "    const percent = span('0% done');\n",
              "    li.appendChild(percent);\n",
              "\n",
              "    outputElement.appendChild(li);\n",
              "\n",
              "    const fileDataPromise = new Promise((resolve) => {\n",
              "      const reader = new FileReader();\n",
              "      reader.onload = (e) => {\n",
              "        resolve(e.target.result);\n",
              "      };\n",
              "      reader.readAsArrayBuffer(file);\n",
              "    });\n",
              "    // Wait for the data to be ready.\n",
              "    let fileData = yield {\n",
              "      promise: fileDataPromise,\n",
              "      response: {\n",
              "        action: 'continue',\n",
              "      }\n",
              "    };\n",
              "\n",
              "    // Use a chunked sending to avoid message size limits. See b/62115660.\n",
              "    let position = 0;\n",
              "    do {\n",
              "      const length = Math.min(fileData.byteLength - position, MAX_PAYLOAD_SIZE);\n",
              "      const chunk = new Uint8Array(fileData, position, length);\n",
              "      position += length;\n",
              "\n",
              "      const base64 = btoa(String.fromCharCode.apply(null, chunk));\n",
              "      yield {\n",
              "        response: {\n",
              "          action: 'append',\n",
              "          file: file.name,\n",
              "          data: base64,\n",
              "        },\n",
              "      };\n",
              "\n",
              "      let percentDone = fileData.byteLength === 0 ?\n",
              "          100 :\n",
              "          Math.round((position / fileData.byteLength) * 100);\n",
              "      percent.textContent = `${percentDone}% done`;\n",
              "\n",
              "    } while (position < fileData.byteLength);\n",
              "  }\n",
              "\n",
              "  // All done.\n",
              "  yield {\n",
              "    response: {\n",
              "      action: 'complete',\n",
              "    }\n",
              "  };\n",
              "}\n",
              "\n",
              "scope.google = scope.google || {};\n",
              "scope.google.colab = scope.google.colab || {};\n",
              "scope.google.colab._files = {\n",
              "  _uploadFiles,\n",
              "  _uploadFilesContinue,\n",
              "};\n",
              "})(self);\n",
              "</script> "
            ]
          },
          "metadata": {}
        },
        {
          "output_type": "stream",
          "name": "stdout",
          "text": [
            "Saving divorce_data.csv to divorce_data.csv\n"
          ]
        }
      ]
    },
    {
      "cell_type": "code",
      "source": [
        "divorce_data = pd.read_csv('divorce_data.csv')"
      ],
      "metadata": {
        "id": "5--jM74o_Tn4"
      },
      "execution_count": null,
      "outputs": []
    },
    {
      "cell_type": "code",
      "source": [
        "divorce_data.head()"
      ],
      "metadata": {
        "colab": {
          "base_uri": "https://localhost:8080/",
          "height": 236
        },
        "id": "bcd7aLeI_nWW",
        "outputId": "e88bb78d-a455-432c-c200-85bb9057dc9e"
      },
      "execution_count": null,
      "outputs": [
        {
          "output_type": "execute_result",
          "data": {
            "text/plain": [
              "   Atr1  Atr2  Atr3  Atr4  Atr5  Atr6  Atr7  Atr8  Atr9  Atr10  ...  Atr46  \\\n",
              "0     2     2     4     1     0     0     0     0     0      0  ...      2   \n",
              "1     4     4     4     4     4     0     0     4     4      4  ...      2   \n",
              "2     2     2     2     2     1     3     2     1     1      2  ...      3   \n",
              "3     3     2     3     2     3     3     3     3     3      3  ...      2   \n",
              "4     2     2     1     1     1     1     0     0     0      0  ...      2   \n",
              "\n",
              "   Atr47  Atr48  Atr49  Atr50  Atr51  Atr52  Atr53  Atr54  Class  \n",
              "0      1      3      3      3      2      3      2      1      1  \n",
              "1      2      3      4      4      4      4      2      2      1  \n",
              "2      2      3      1      1      1      2      2      2      1  \n",
              "3      2      3      3      3      3      2      2      2      1  \n",
              "4      1      2      3      2      2      2      1      0      1  \n",
              "\n",
              "[5 rows x 55 columns]"
            ],
            "text/html": [
              "\n",
              "  <div id=\"df-bd1557ec-a321-44cd-99c6-3feff599109c\">\n",
              "    <div class=\"colab-df-container\">\n",
              "      <div>\n",
              "<style scoped>\n",
              "    .dataframe tbody tr th:only-of-type {\n",
              "        vertical-align: middle;\n",
              "    }\n",
              "\n",
              "    .dataframe tbody tr th {\n",
              "        vertical-align: top;\n",
              "    }\n",
              "\n",
              "    .dataframe thead th {\n",
              "        text-align: right;\n",
              "    }\n",
              "</style>\n",
              "<table border=\"1\" class=\"dataframe\">\n",
              "  <thead>\n",
              "    <tr style=\"text-align: right;\">\n",
              "      <th></th>\n",
              "      <th>Atr1</th>\n",
              "      <th>Atr2</th>\n",
              "      <th>Atr3</th>\n",
              "      <th>Atr4</th>\n",
              "      <th>Atr5</th>\n",
              "      <th>Atr6</th>\n",
              "      <th>Atr7</th>\n",
              "      <th>Atr8</th>\n",
              "      <th>Atr9</th>\n",
              "      <th>Atr10</th>\n",
              "      <th>...</th>\n",
              "      <th>Atr46</th>\n",
              "      <th>Atr47</th>\n",
              "      <th>Atr48</th>\n",
              "      <th>Atr49</th>\n",
              "      <th>Atr50</th>\n",
              "      <th>Atr51</th>\n",
              "      <th>Atr52</th>\n",
              "      <th>Atr53</th>\n",
              "      <th>Atr54</th>\n",
              "      <th>Class</th>\n",
              "    </tr>\n",
              "  </thead>\n",
              "  <tbody>\n",
              "    <tr>\n",
              "      <th>0</th>\n",
              "      <td>2</td>\n",
              "      <td>2</td>\n",
              "      <td>4</td>\n",
              "      <td>1</td>\n",
              "      <td>0</td>\n",
              "      <td>0</td>\n",
              "      <td>0</td>\n",
              "      <td>0</td>\n",
              "      <td>0</td>\n",
              "      <td>0</td>\n",
              "      <td>...</td>\n",
              "      <td>2</td>\n",
              "      <td>1</td>\n",
              "      <td>3</td>\n",
              "      <td>3</td>\n",
              "      <td>3</td>\n",
              "      <td>2</td>\n",
              "      <td>3</td>\n",
              "      <td>2</td>\n",
              "      <td>1</td>\n",
              "      <td>1</td>\n",
              "    </tr>\n",
              "    <tr>\n",
              "      <th>1</th>\n",
              "      <td>4</td>\n",
              "      <td>4</td>\n",
              "      <td>4</td>\n",
              "      <td>4</td>\n",
              "      <td>4</td>\n",
              "      <td>0</td>\n",
              "      <td>0</td>\n",
              "      <td>4</td>\n",
              "      <td>4</td>\n",
              "      <td>4</td>\n",
              "      <td>...</td>\n",
              "      <td>2</td>\n",
              "      <td>2</td>\n",
              "      <td>3</td>\n",
              "      <td>4</td>\n",
              "      <td>4</td>\n",
              "      <td>4</td>\n",
              "      <td>4</td>\n",
              "      <td>2</td>\n",
              "      <td>2</td>\n",
              "      <td>1</td>\n",
              "    </tr>\n",
              "    <tr>\n",
              "      <th>2</th>\n",
              "      <td>2</td>\n",
              "      <td>2</td>\n",
              "      <td>2</td>\n",
              "      <td>2</td>\n",
              "      <td>1</td>\n",
              "      <td>3</td>\n",
              "      <td>2</td>\n",
              "      <td>1</td>\n",
              "      <td>1</td>\n",
              "      <td>2</td>\n",
              "      <td>...</td>\n",
              "      <td>3</td>\n",
              "      <td>2</td>\n",
              "      <td>3</td>\n",
              "      <td>1</td>\n",
              "      <td>1</td>\n",
              "      <td>1</td>\n",
              "      <td>2</td>\n",
              "      <td>2</td>\n",
              "      <td>2</td>\n",
              "      <td>1</td>\n",
              "    </tr>\n",
              "    <tr>\n",
              "      <th>3</th>\n",
              "      <td>3</td>\n",
              "      <td>2</td>\n",
              "      <td>3</td>\n",
              "      <td>2</td>\n",
              "      <td>3</td>\n",
              "      <td>3</td>\n",
              "      <td>3</td>\n",
              "      <td>3</td>\n",
              "      <td>3</td>\n",
              "      <td>3</td>\n",
              "      <td>...</td>\n",
              "      <td>2</td>\n",
              "      <td>2</td>\n",
              "      <td>3</td>\n",
              "      <td>3</td>\n",
              "      <td>3</td>\n",
              "      <td>3</td>\n",
              "      <td>2</td>\n",
              "      <td>2</td>\n",
              "      <td>2</td>\n",
              "      <td>1</td>\n",
              "    </tr>\n",
              "    <tr>\n",
              "      <th>4</th>\n",
              "      <td>2</td>\n",
              "      <td>2</td>\n",
              "      <td>1</td>\n",
              "      <td>1</td>\n",
              "      <td>1</td>\n",
              "      <td>1</td>\n",
              "      <td>0</td>\n",
              "      <td>0</td>\n",
              "      <td>0</td>\n",
              "      <td>0</td>\n",
              "      <td>...</td>\n",
              "      <td>2</td>\n",
              "      <td>1</td>\n",
              "      <td>2</td>\n",
              "      <td>3</td>\n",
              "      <td>2</td>\n",
              "      <td>2</td>\n",
              "      <td>2</td>\n",
              "      <td>1</td>\n",
              "      <td>0</td>\n",
              "      <td>1</td>\n",
              "    </tr>\n",
              "  </tbody>\n",
              "</table>\n",
              "<p>5 rows × 55 columns</p>\n",
              "</div>\n",
              "      <button class=\"colab-df-convert\" onclick=\"convertToInteractive('df-bd1557ec-a321-44cd-99c6-3feff599109c')\"\n",
              "              title=\"Convert this dataframe to an interactive table.\"\n",
              "              style=\"display:none;\">\n",
              "        \n",
              "  <svg xmlns=\"http://www.w3.org/2000/svg\" height=\"24px\"viewBox=\"0 0 24 24\"\n",
              "       width=\"24px\">\n",
              "    <path d=\"M0 0h24v24H0V0z\" fill=\"none\"/>\n",
              "    <path d=\"M18.56 5.44l.94 2.06.94-2.06 2.06-.94-2.06-.94-.94-2.06-.94 2.06-2.06.94zm-11 1L8.5 8.5l.94-2.06 2.06-.94-2.06-.94L8.5 2.5l-.94 2.06-2.06.94zm10 10l.94 2.06.94-2.06 2.06-.94-2.06-.94-.94-2.06-.94 2.06-2.06.94z\"/><path d=\"M17.41 7.96l-1.37-1.37c-.4-.4-.92-.59-1.43-.59-.52 0-1.04.2-1.43.59L10.3 9.45l-7.72 7.72c-.78.78-.78 2.05 0 2.83L4 21.41c.39.39.9.59 1.41.59.51 0 1.02-.2 1.41-.59l7.78-7.78 2.81-2.81c.8-.78.8-2.07 0-2.86zM5.41 20L4 18.59l7.72-7.72 1.47 1.35L5.41 20z\"/>\n",
              "  </svg>\n",
              "      </button>\n",
              "      \n",
              "  <style>\n",
              "    .colab-df-container {\n",
              "      display:flex;\n",
              "      flex-wrap:wrap;\n",
              "      gap: 12px;\n",
              "    }\n",
              "\n",
              "    .colab-df-convert {\n",
              "      background-color: #E8F0FE;\n",
              "      border: none;\n",
              "      border-radius: 50%;\n",
              "      cursor: pointer;\n",
              "      display: none;\n",
              "      fill: #1967D2;\n",
              "      height: 32px;\n",
              "      padding: 0 0 0 0;\n",
              "      width: 32px;\n",
              "    }\n",
              "\n",
              "    .colab-df-convert:hover {\n",
              "      background-color: #E2EBFA;\n",
              "      box-shadow: 0px 1px 2px rgba(60, 64, 67, 0.3), 0px 1px 3px 1px rgba(60, 64, 67, 0.15);\n",
              "      fill: #174EA6;\n",
              "    }\n",
              "\n",
              "    [theme=dark] .colab-df-convert {\n",
              "      background-color: #3B4455;\n",
              "      fill: #D2E3FC;\n",
              "    }\n",
              "\n",
              "    [theme=dark] .colab-df-convert:hover {\n",
              "      background-color: #434B5C;\n",
              "      box-shadow: 0px 1px 3px 1px rgba(0, 0, 0, 0.15);\n",
              "      filter: drop-shadow(0px 1px 2px rgba(0, 0, 0, 0.3));\n",
              "      fill: #FFFFFF;\n",
              "    }\n",
              "  </style>\n",
              "\n",
              "      <script>\n",
              "        const buttonEl =\n",
              "          document.querySelector('#df-bd1557ec-a321-44cd-99c6-3feff599109c button.colab-df-convert');\n",
              "        buttonEl.style.display =\n",
              "          google.colab.kernel.accessAllowed ? 'block' : 'none';\n",
              "\n",
              "        async function convertToInteractive(key) {\n",
              "          const element = document.querySelector('#df-bd1557ec-a321-44cd-99c6-3feff599109c');\n",
              "          const dataTable =\n",
              "            await google.colab.kernel.invokeFunction('convertToInteractive',\n",
              "                                                     [key], {});\n",
              "          if (!dataTable) return;\n",
              "\n",
              "          const docLinkHtml = 'Like what you see? Visit the ' +\n",
              "            '<a target=\"_blank\" href=https://colab.research.google.com/notebooks/data_table.ipynb>data table notebook</a>'\n",
              "            + ' to learn more about interactive tables.';\n",
              "          element.innerHTML = '';\n",
              "          dataTable['output_type'] = 'display_data';\n",
              "          await google.colab.output.renderOutput(dataTable, element);\n",
              "          const docLink = document.createElement('div');\n",
              "          docLink.innerHTML = docLinkHtml;\n",
              "          element.appendChild(docLink);\n",
              "        }\n",
              "      </script>\n",
              "    </div>\n",
              "  </div>\n",
              "  "
            ]
          },
          "metadata": {},
          "execution_count": 36
        }
      ]
    },
    {
      "cell_type": "code",
      "source": [
        "divorce_data.tail()"
      ],
      "metadata": {
        "colab": {
          "base_uri": "https://localhost:8080/",
          "height": 236
        },
        "id": "POtgTPjH_pSC",
        "outputId": "26ebb222-ef6a-4276-d285-d7f2ce717edd"
      },
      "execution_count": null,
      "outputs": [
        {
          "output_type": "execute_result",
          "data": {
            "text/plain": [
              "     Atr1  Atr2  Atr3  Atr4  Atr5  Atr6  Atr7  Atr8  Atr9  Atr10  ...  Atr46  \\\n",
              "165     0     0     0     0     0     0     0     0     0      0  ...      1   \n",
              "166     0     0     0     0     0     0     0     0     0      0  ...      4   \n",
              "167     1     1     0     0     0     0     0     0     0      1  ...      3   \n",
              "168     0     0     0     0     0     0     0     0     0      0  ...      3   \n",
              "169     0     0     0     0     0     0     0     1     0      0  ...      3   \n",
              "\n",
              "     Atr47  Atr48  Atr49  Atr50  Atr51  Atr52  Atr53  Atr54  Class  \n",
              "165      0      4      1      1      4      2      2      2      0  \n",
              "166      1      2      2      2      2      3      2      2      0  \n",
              "167      0      2      0      1      1      3      0      0      0  \n",
              "168      3      2      2      3      2      4      3      1      0  \n",
              "169      4      4      0      1      3      3      3      1      0  \n",
              "\n",
              "[5 rows x 55 columns]"
            ],
            "text/html": [
              "\n",
              "  <div id=\"df-26db38a0-bbe3-4491-b7dc-76c855c2444a\">\n",
              "    <div class=\"colab-df-container\">\n",
              "      <div>\n",
              "<style scoped>\n",
              "    .dataframe tbody tr th:only-of-type {\n",
              "        vertical-align: middle;\n",
              "    }\n",
              "\n",
              "    .dataframe tbody tr th {\n",
              "        vertical-align: top;\n",
              "    }\n",
              "\n",
              "    .dataframe thead th {\n",
              "        text-align: right;\n",
              "    }\n",
              "</style>\n",
              "<table border=\"1\" class=\"dataframe\">\n",
              "  <thead>\n",
              "    <tr style=\"text-align: right;\">\n",
              "      <th></th>\n",
              "      <th>Atr1</th>\n",
              "      <th>Atr2</th>\n",
              "      <th>Atr3</th>\n",
              "      <th>Atr4</th>\n",
              "      <th>Atr5</th>\n",
              "      <th>Atr6</th>\n",
              "      <th>Atr7</th>\n",
              "      <th>Atr8</th>\n",
              "      <th>Atr9</th>\n",
              "      <th>Atr10</th>\n",
              "      <th>...</th>\n",
              "      <th>Atr46</th>\n",
              "      <th>Atr47</th>\n",
              "      <th>Atr48</th>\n",
              "      <th>Atr49</th>\n",
              "      <th>Atr50</th>\n",
              "      <th>Atr51</th>\n",
              "      <th>Atr52</th>\n",
              "      <th>Atr53</th>\n",
              "      <th>Atr54</th>\n",
              "      <th>Class</th>\n",
              "    </tr>\n",
              "  </thead>\n",
              "  <tbody>\n",
              "    <tr>\n",
              "      <th>165</th>\n",
              "      <td>0</td>\n",
              "      <td>0</td>\n",
              "      <td>0</td>\n",
              "      <td>0</td>\n",
              "      <td>0</td>\n",
              "      <td>0</td>\n",
              "      <td>0</td>\n",
              "      <td>0</td>\n",
              "      <td>0</td>\n",
              "      <td>0</td>\n",
              "      <td>...</td>\n",
              "      <td>1</td>\n",
              "      <td>0</td>\n",
              "      <td>4</td>\n",
              "      <td>1</td>\n",
              "      <td>1</td>\n",
              "      <td>4</td>\n",
              "      <td>2</td>\n",
              "      <td>2</td>\n",
              "      <td>2</td>\n",
              "      <td>0</td>\n",
              "    </tr>\n",
              "    <tr>\n",
              "      <th>166</th>\n",
              "      <td>0</td>\n",
              "      <td>0</td>\n",
              "      <td>0</td>\n",
              "      <td>0</td>\n",
              "      <td>0</td>\n",
              "      <td>0</td>\n",
              "      <td>0</td>\n",
              "      <td>0</td>\n",
              "      <td>0</td>\n",
              "      <td>0</td>\n",
              "      <td>...</td>\n",
              "      <td>4</td>\n",
              "      <td>1</td>\n",
              "      <td>2</td>\n",
              "      <td>2</td>\n",
              "      <td>2</td>\n",
              "      <td>2</td>\n",
              "      <td>3</td>\n",
              "      <td>2</td>\n",
              "      <td>2</td>\n",
              "      <td>0</td>\n",
              "    </tr>\n",
              "    <tr>\n",
              "      <th>167</th>\n",
              "      <td>1</td>\n",
              "      <td>1</td>\n",
              "      <td>0</td>\n",
              "      <td>0</td>\n",
              "      <td>0</td>\n",
              "      <td>0</td>\n",
              "      <td>0</td>\n",
              "      <td>0</td>\n",
              "      <td>0</td>\n",
              "      <td>1</td>\n",
              "      <td>...</td>\n",
              "      <td>3</td>\n",
              "      <td>0</td>\n",
              "      <td>2</td>\n",
              "      <td>0</td>\n",
              "      <td>1</td>\n",
              "      <td>1</td>\n",
              "      <td>3</td>\n",
              "      <td>0</td>\n",
              "      <td>0</td>\n",
              "      <td>0</td>\n",
              "    </tr>\n",
              "    <tr>\n",
              "      <th>168</th>\n",
              "      <td>0</td>\n",
              "      <td>0</td>\n",
              "      <td>0</td>\n",
              "      <td>0</td>\n",
              "      <td>0</td>\n",
              "      <td>0</td>\n",
              "      <td>0</td>\n",
              "      <td>0</td>\n",
              "      <td>0</td>\n",
              "      <td>0</td>\n",
              "      <td>...</td>\n",
              "      <td>3</td>\n",
              "      <td>3</td>\n",
              "      <td>2</td>\n",
              "      <td>2</td>\n",
              "      <td>3</td>\n",
              "      <td>2</td>\n",
              "      <td>4</td>\n",
              "      <td>3</td>\n",
              "      <td>1</td>\n",
              "      <td>0</td>\n",
              "    </tr>\n",
              "    <tr>\n",
              "      <th>169</th>\n",
              "      <td>0</td>\n",
              "      <td>0</td>\n",
              "      <td>0</td>\n",
              "      <td>0</td>\n",
              "      <td>0</td>\n",
              "      <td>0</td>\n",
              "      <td>0</td>\n",
              "      <td>1</td>\n",
              "      <td>0</td>\n",
              "      <td>0</td>\n",
              "      <td>...</td>\n",
              "      <td>3</td>\n",
              "      <td>4</td>\n",
              "      <td>4</td>\n",
              "      <td>0</td>\n",
              "      <td>1</td>\n",
              "      <td>3</td>\n",
              "      <td>3</td>\n",
              "      <td>3</td>\n",
              "      <td>1</td>\n",
              "      <td>0</td>\n",
              "    </tr>\n",
              "  </tbody>\n",
              "</table>\n",
              "<p>5 rows × 55 columns</p>\n",
              "</div>\n",
              "      <button class=\"colab-df-convert\" onclick=\"convertToInteractive('df-26db38a0-bbe3-4491-b7dc-76c855c2444a')\"\n",
              "              title=\"Convert this dataframe to an interactive table.\"\n",
              "              style=\"display:none;\">\n",
              "        \n",
              "  <svg xmlns=\"http://www.w3.org/2000/svg\" height=\"24px\"viewBox=\"0 0 24 24\"\n",
              "       width=\"24px\">\n",
              "    <path d=\"M0 0h24v24H0V0z\" fill=\"none\"/>\n",
              "    <path d=\"M18.56 5.44l.94 2.06.94-2.06 2.06-.94-2.06-.94-.94-2.06-.94 2.06-2.06.94zm-11 1L8.5 8.5l.94-2.06 2.06-.94-2.06-.94L8.5 2.5l-.94 2.06-2.06.94zm10 10l.94 2.06.94-2.06 2.06-.94-2.06-.94-.94-2.06-.94 2.06-2.06.94z\"/><path d=\"M17.41 7.96l-1.37-1.37c-.4-.4-.92-.59-1.43-.59-.52 0-1.04.2-1.43.59L10.3 9.45l-7.72 7.72c-.78.78-.78 2.05 0 2.83L4 21.41c.39.39.9.59 1.41.59.51 0 1.02-.2 1.41-.59l7.78-7.78 2.81-2.81c.8-.78.8-2.07 0-2.86zM5.41 20L4 18.59l7.72-7.72 1.47 1.35L5.41 20z\"/>\n",
              "  </svg>\n",
              "      </button>\n",
              "      \n",
              "  <style>\n",
              "    .colab-df-container {\n",
              "      display:flex;\n",
              "      flex-wrap:wrap;\n",
              "      gap: 12px;\n",
              "    }\n",
              "\n",
              "    .colab-df-convert {\n",
              "      background-color: #E8F0FE;\n",
              "      border: none;\n",
              "      border-radius: 50%;\n",
              "      cursor: pointer;\n",
              "      display: none;\n",
              "      fill: #1967D2;\n",
              "      height: 32px;\n",
              "      padding: 0 0 0 0;\n",
              "      width: 32px;\n",
              "    }\n",
              "\n",
              "    .colab-df-convert:hover {\n",
              "      background-color: #E2EBFA;\n",
              "      box-shadow: 0px 1px 2px rgba(60, 64, 67, 0.3), 0px 1px 3px 1px rgba(60, 64, 67, 0.15);\n",
              "      fill: #174EA6;\n",
              "    }\n",
              "\n",
              "    [theme=dark] .colab-df-convert {\n",
              "      background-color: #3B4455;\n",
              "      fill: #D2E3FC;\n",
              "    }\n",
              "\n",
              "    [theme=dark] .colab-df-convert:hover {\n",
              "      background-color: #434B5C;\n",
              "      box-shadow: 0px 1px 3px 1px rgba(0, 0, 0, 0.15);\n",
              "      filter: drop-shadow(0px 1px 2px rgba(0, 0, 0, 0.3));\n",
              "      fill: #FFFFFF;\n",
              "    }\n",
              "  </style>\n",
              "\n",
              "      <script>\n",
              "        const buttonEl =\n",
              "          document.querySelector('#df-26db38a0-bbe3-4491-b7dc-76c855c2444a button.colab-df-convert');\n",
              "        buttonEl.style.display =\n",
              "          google.colab.kernel.accessAllowed ? 'block' : 'none';\n",
              "\n",
              "        async function convertToInteractive(key) {\n",
              "          const element = document.querySelector('#df-26db38a0-bbe3-4491-b7dc-76c855c2444a');\n",
              "          const dataTable =\n",
              "            await google.colab.kernel.invokeFunction('convertToInteractive',\n",
              "                                                     [key], {});\n",
              "          if (!dataTable) return;\n",
              "\n",
              "          const docLinkHtml = 'Like what you see? Visit the ' +\n",
              "            '<a target=\"_blank\" href=https://colab.research.google.com/notebooks/data_table.ipynb>data table notebook</a>'\n",
              "            + ' to learn more about interactive tables.';\n",
              "          element.innerHTML = '';\n",
              "          dataTable['output_type'] = 'display_data';\n",
              "          await google.colab.output.renderOutput(dataTable, element);\n",
              "          const docLink = document.createElement('div');\n",
              "          docLink.innerHTML = docLinkHtml;\n",
              "          element.appendChild(docLink);\n",
              "        }\n",
              "      </script>\n",
              "    </div>\n",
              "  </div>\n",
              "  "
            ]
          },
          "metadata": {},
          "execution_count": 37
        }
      ]
    },
    {
      "cell_type": "code",
      "source": [
        "divorce_data.shape"
      ],
      "metadata": {
        "colab": {
          "base_uri": "https://localhost:8080/"
        },
        "id": "5QxmjNiX_w9Z",
        "outputId": "fc353dfe-25a9-45c4-83a4-3c0be2a11e8a"
      },
      "execution_count": null,
      "outputs": [
        {
          "output_type": "execute_result",
          "data": {
            "text/plain": [
              "(170, 55)"
            ]
          },
          "metadata": {},
          "execution_count": 38
        }
      ]
    },
    {
      "cell_type": "code",
      "source": [
        "divorce_data.columns"
      ],
      "metadata": {
        "colab": {
          "base_uri": "https://localhost:8080/"
        },
        "id": "EtbZbUXc_1D9",
        "outputId": "f9c53788-0985-4adf-f51b-952c3469ee3f"
      },
      "execution_count": null,
      "outputs": [
        {
          "output_type": "execute_result",
          "data": {
            "text/plain": [
              "Index(['Atr1', 'Atr2', 'Atr3', 'Atr4', 'Atr5', 'Atr6', 'Atr7', 'Atr8', 'Atr9',\n",
              "       'Atr10', 'Atr11', 'Atr12', 'Atr13', 'Atr14', 'Atr15', 'Atr16', 'Atr17',\n",
              "       'Atr18', 'Atr19', 'Atr20', 'Atr21', 'Atr22', 'Atr23', 'Atr24', 'Atr25',\n",
              "       'Atr26', 'Atr27', 'Atr28', 'Atr29', 'Atr30', 'Atr31', 'Atr32', 'Atr33',\n",
              "       'Atr34', 'Atr35', 'Atr36', 'Atr37', 'Atr38', 'Atr39', 'Atr40', 'Atr41',\n",
              "       'Atr42', 'Atr43', 'Atr44', 'Atr45', 'Atr46', 'Atr47', 'Atr48', 'Atr49',\n",
              "       'Atr50', 'Atr51', 'Atr52', 'Atr53', 'Atr54', 'Class'],\n",
              "      dtype='object')"
            ]
          },
          "metadata": {},
          "execution_count": 39
        }
      ]
    },
    {
      "cell_type": "code",
      "source": [
        "divorce_data.duplicated().sum()"
      ],
      "metadata": {
        "colab": {
          "base_uri": "https://localhost:8080/"
        },
        "id": "_hbp0UO2_3Kj",
        "outputId": "743cc010-6414-41bb-c86e-2af601652f6b"
      },
      "execution_count": null,
      "outputs": [
        {
          "output_type": "execute_result",
          "data": {
            "text/plain": [
              "20"
            ]
          },
          "metadata": {},
          "execution_count": 13
        }
      ]
    },
    {
      "cell_type": "code",
      "source": [
        "divorce_data.isnull().sum()"
      ],
      "metadata": {
        "colab": {
          "base_uri": "https://localhost:8080/"
        },
        "id": "E_GIlESG_8ok",
        "outputId": "a066ad90-32bb-4282-9ad2-cbc8ac191b5f"
      },
      "execution_count": null,
      "outputs": [
        {
          "output_type": "execute_result",
          "data": {
            "text/plain": [
              "Atr1     0\n",
              "Atr2     0\n",
              "Atr3     0\n",
              "Atr4     0\n",
              "Atr5     0\n",
              "Atr6     0\n",
              "Atr7     0\n",
              "Atr8     0\n",
              "Atr9     0\n",
              "Atr10    0\n",
              "Atr11    0\n",
              "Atr12    0\n",
              "Atr13    0\n",
              "Atr14    0\n",
              "Atr15    0\n",
              "Atr16    0\n",
              "Atr17    0\n",
              "Atr18    0\n",
              "Atr19    0\n",
              "Atr20    0\n",
              "Atr21    0\n",
              "Atr22    0\n",
              "Atr23    0\n",
              "Atr24    0\n",
              "Atr25    0\n",
              "Atr26    0\n",
              "Atr27    0\n",
              "Atr28    0\n",
              "Atr29    0\n",
              "Atr30    0\n",
              "Atr31    0\n",
              "Atr32    0\n",
              "Atr33    0\n",
              "Atr34    0\n",
              "Atr35    0\n",
              "Atr36    0\n",
              "Atr37    0\n",
              "Atr38    0\n",
              "Atr39    0\n",
              "Atr40    0\n",
              "Atr41    0\n",
              "Atr42    0\n",
              "Atr43    0\n",
              "Atr44    0\n",
              "Atr45    0\n",
              "Atr46    0\n",
              "Atr47    0\n",
              "Atr48    0\n",
              "Atr49    0\n",
              "Atr50    0\n",
              "Atr51    0\n",
              "Atr52    0\n",
              "Atr53    0\n",
              "Atr54    0\n",
              "Class    0\n",
              "dtype: int64"
            ]
          },
          "metadata": {},
          "execution_count": 41
        }
      ]
    },
    {
      "cell_type": "code",
      "source": [
        "from google.colab import files\n",
        "uploaded = files.upload ()"
      ],
      "metadata": {
        "colab": {
          "base_uri": "https://localhost:8080/",
          "height": 39
        },
        "id": "-oIJiCDRAiLt",
        "outputId": "b4164c8e-94ac-4e99-85d8-766efe32af65"
      },
      "execution_count": null,
      "outputs": [
        {
          "output_type": "display_data",
          "data": {
            "text/plain": [
              "<IPython.core.display.HTML object>"
            ],
            "text/html": [
              "\n",
              "     <input type=\"file\" id=\"files-8fcec3d8-92c5-4fcd-90ed-39e592712c34\" name=\"files[]\" multiple disabled\n",
              "        style=\"border:none\" />\n",
              "     <output id=\"result-8fcec3d8-92c5-4fcd-90ed-39e592712c34\">\n",
              "      Upload widget is only available when the cell has been executed in the\n",
              "      current browser session. Please rerun this cell to enable.\n",
              "      </output>\n",
              "      <script>// Copyright 2017 Google LLC\n",
              "//\n",
              "// Licensed under the Apache License, Version 2.0 (the \"License\");\n",
              "// you may not use this file except in compliance with the License.\n",
              "// You may obtain a copy of the License at\n",
              "//\n",
              "//      http://www.apache.org/licenses/LICENSE-2.0\n",
              "//\n",
              "// Unless required by applicable law or agreed to in writing, software\n",
              "// distributed under the License is distributed on an \"AS IS\" BASIS,\n",
              "// WITHOUT WARRANTIES OR CONDITIONS OF ANY KIND, either express or implied.\n",
              "// See the License for the specific language governing permissions and\n",
              "// limitations under the License.\n",
              "\n",
              "/**\n",
              " * @fileoverview Helpers for google.colab Python module.\n",
              " */\n",
              "(function(scope) {\n",
              "function span(text, styleAttributes = {}) {\n",
              "  const element = document.createElement('span');\n",
              "  element.textContent = text;\n",
              "  for (const key of Object.keys(styleAttributes)) {\n",
              "    element.style[key] = styleAttributes[key];\n",
              "  }\n",
              "  return element;\n",
              "}\n",
              "\n",
              "// Max number of bytes which will be uploaded at a time.\n",
              "const MAX_PAYLOAD_SIZE = 100 * 1024;\n",
              "\n",
              "function _uploadFiles(inputId, outputId) {\n",
              "  const steps = uploadFilesStep(inputId, outputId);\n",
              "  const outputElement = document.getElementById(outputId);\n",
              "  // Cache steps on the outputElement to make it available for the next call\n",
              "  // to uploadFilesContinue from Python.\n",
              "  outputElement.steps = steps;\n",
              "\n",
              "  return _uploadFilesContinue(outputId);\n",
              "}\n",
              "\n",
              "// This is roughly an async generator (not supported in the browser yet),\n",
              "// where there are multiple asynchronous steps and the Python side is going\n",
              "// to poll for completion of each step.\n",
              "// This uses a Promise to block the python side on completion of each step,\n",
              "// then passes the result of the previous step as the input to the next step.\n",
              "function _uploadFilesContinue(outputId) {\n",
              "  const outputElement = document.getElementById(outputId);\n",
              "  const steps = outputElement.steps;\n",
              "\n",
              "  const next = steps.next(outputElement.lastPromiseValue);\n",
              "  return Promise.resolve(next.value.promise).then((value) => {\n",
              "    // Cache the last promise value to make it available to the next\n",
              "    // step of the generator.\n",
              "    outputElement.lastPromiseValue = value;\n",
              "    return next.value.response;\n",
              "  });\n",
              "}\n",
              "\n",
              "/**\n",
              " * Generator function which is called between each async step of the upload\n",
              " * process.\n",
              " * @param {string} inputId Element ID of the input file picker element.\n",
              " * @param {string} outputId Element ID of the output display.\n",
              " * @return {!Iterable<!Object>} Iterable of next steps.\n",
              " */\n",
              "function* uploadFilesStep(inputId, outputId) {\n",
              "  const inputElement = document.getElementById(inputId);\n",
              "  inputElement.disabled = false;\n",
              "\n",
              "  const outputElement = document.getElementById(outputId);\n",
              "  outputElement.innerHTML = '';\n",
              "\n",
              "  const pickedPromise = new Promise((resolve) => {\n",
              "    inputElement.addEventListener('change', (e) => {\n",
              "      resolve(e.target.files);\n",
              "    });\n",
              "  });\n",
              "\n",
              "  const cancel = document.createElement('button');\n",
              "  inputElement.parentElement.appendChild(cancel);\n",
              "  cancel.textContent = 'Cancel upload';\n",
              "  const cancelPromise = new Promise((resolve) => {\n",
              "    cancel.onclick = () => {\n",
              "      resolve(null);\n",
              "    };\n",
              "  });\n",
              "\n",
              "  // Wait for the user to pick the files.\n",
              "  const files = yield {\n",
              "    promise: Promise.race([pickedPromise, cancelPromise]),\n",
              "    response: {\n",
              "      action: 'starting',\n",
              "    }\n",
              "  };\n",
              "\n",
              "  cancel.remove();\n",
              "\n",
              "  // Disable the input element since further picks are not allowed.\n",
              "  inputElement.disabled = true;\n",
              "\n",
              "  if (!files) {\n",
              "    return {\n",
              "      response: {\n",
              "        action: 'complete',\n",
              "      }\n",
              "    };\n",
              "  }\n",
              "\n",
              "  for (const file of files) {\n",
              "    const li = document.createElement('li');\n",
              "    li.append(span(file.name, {fontWeight: 'bold'}));\n",
              "    li.append(span(\n",
              "        `(${file.type || 'n/a'}) - ${file.size} bytes, ` +\n",
              "        `last modified: ${\n",
              "            file.lastModifiedDate ? file.lastModifiedDate.toLocaleDateString() :\n",
              "                                    'n/a'} - `));\n",
              "    const percent = span('0% done');\n",
              "    li.appendChild(percent);\n",
              "\n",
              "    outputElement.appendChild(li);\n",
              "\n",
              "    const fileDataPromise = new Promise((resolve) => {\n",
              "      const reader = new FileReader();\n",
              "      reader.onload = (e) => {\n",
              "        resolve(e.target.result);\n",
              "      };\n",
              "      reader.readAsArrayBuffer(file);\n",
              "    });\n",
              "    // Wait for the data to be ready.\n",
              "    let fileData = yield {\n",
              "      promise: fileDataPromise,\n",
              "      response: {\n",
              "        action: 'continue',\n",
              "      }\n",
              "    };\n",
              "\n",
              "    // Use a chunked sending to avoid message size limits. See b/62115660.\n",
              "    let position = 0;\n",
              "    do {\n",
              "      const length = Math.min(fileData.byteLength - position, MAX_PAYLOAD_SIZE);\n",
              "      const chunk = new Uint8Array(fileData, position, length);\n",
              "      position += length;\n",
              "\n",
              "      const base64 = btoa(String.fromCharCode.apply(null, chunk));\n",
              "      yield {\n",
              "        response: {\n",
              "          action: 'append',\n",
              "          file: file.name,\n",
              "          data: base64,\n",
              "        },\n",
              "      };\n",
              "\n",
              "      let percentDone = fileData.byteLength === 0 ?\n",
              "          100 :\n",
              "          Math.round((position / fileData.byteLength) * 100);\n",
              "      percent.textContent = `${percentDone}% done`;\n",
              "\n",
              "    } while (position < fileData.byteLength);\n",
              "  }\n",
              "\n",
              "  // All done.\n",
              "  yield {\n",
              "    response: {\n",
              "      action: 'complete',\n",
              "    }\n",
              "  };\n",
              "}\n",
              "\n",
              "scope.google = scope.google || {};\n",
              "scope.google.colab = scope.google.colab || {};\n",
              "scope.google.colab._files = {\n",
              "  _uploadFiles,\n",
              "  _uploadFilesContinue,\n",
              "};\n",
              "})(self);\n",
              "</script> "
            ]
          },
          "metadata": {}
        }
      ]
    },
    {
      "cell_type": "code",
      "source": [
        "with open('divorce.txt') as f:\n",
        "   contents = f.read() \n",
        "   print(contents)"
      ],
      "metadata": {
        "colab": {
          "base_uri": "https://localhost:8080/"
        },
        "id": "jI6rIF0bBRIj",
        "outputId": "6dee0685-a416-411e-d190-ccbb2e3610d9"
      },
      "execution_count": null,
      "outputs": [
        {
          "output_type": "stream",
          "name": "stdout",
          "text": [
            "1. If one of us apologizes when our discussion deteriorates, the discussio\n",
            "n ends.\n",
            "2. I know we can ignore our differences, even if things get hard sometime\n",
            "s.\n",
            "3. When we need it, we can take our discussions with my spouse from the be\n",
            "ginning and correct it.\n",
            "4. When I discuss with my spouse, to contact him will eventually work.\n",
            "5. The time I spent with my wife is special for us.\n",
            "6. We don't have time at home as partners.\n",
            "7. We are like two strangers who share the same environment at home rather\n",
            "than family.\n",
            "8. I enjoy our holidays with my wife.\n",
            "9. I enjoy traveling with my wife.\n",
            "10. Most of our goals are common to my spouse.\n",
            "11. I think that one day in the future, when I look back, I see that my sp\n",
            "ouse and I have been in harmony with each other.\n",
            "12. My spouse and I have similar values in terms of personal freedom.\n",
            "13. My spouse and I have similar sense of entertainment.\n",
            "14. Most of our goals for people (children, friends, etc.) are the same.\n",
            "15. Our dreams with my spouse are similar and harmonious.\n",
            "16. We're compatible with my spouse about what love should be.\n",
            "17. We share the same views about being happy in our life with my spouse\n",
            "18. My spouse and I have similar ideas about how marriage should be\n",
            "19. My spouse and I have similar ideas about how roles should be in marria\n",
            "ge\n",
            "20. My spouse and I have similar values in trust.\n",
            "21. I know exactly what my wife likes.\n",
            "22. I know how my spouse wants to be taken care of when she/he sick.\n",
            "23. I know my spouse's favorite food.\n",
            "24. I can tell you what kind of stress my spouse is facing in her/his lif\n",
            "e.\n",
            "25. I have knowledge of my spouse's inner world.\n",
            "26. I know my spouse's basic anxieties.\n",
            "27. I know what my spouse's current sources of stress are.\n",
            "28. I know my spouse's hopes and wishes.\n",
            "29. I know my spouse very well.\n",
            "30. I know my spouse's friends and their social relationships.\n",
            "31. I feel aggressive when I argue with my spouse.\n",
            "32. When discussing with my spouse, I usually use expressions such as â€ ̃y\n",
            "ou alwaysâ€TM or â€ ̃you neverâ€TM .\n",
            "33. I can use negative statements about my spouse's personality during our\n",
            "discussions.\n",
            "34. I can use offensive expressions during our discussions.\n",
            "35. I can insult my spouse during our discussions.\n",
            "36. I can be humiliating when we discussions.\n",
            "37. My discussion with my spouse is not calm.\n",
            "38. I hate my spouse's way of open a subject.\n",
            "39. Our discussions often occur suddenly.\n",
            "40. We're just starting a discussion before I know what's going on.\n",
            "41. When I talk to my spouse about something, my calm suddenly breaks.\n",
            "42. When I argue with my spouse, Ä± only go out and I don't say a word.\n",
            "43. I mostly stay silent to calm the environment a little bit.\n",
            "44. Sometimes I think it's good for me to leave home for a while.\n",
            "45. I'd rather stay silent than discuss with my spouse.\n",
            "46. Even if I'm right in the discussion, I stay silent to hurt my spouse.\n",
            "47. When I discuss with my spouse, I stay silent because I am afraid of no\n",
            "t being able to control my anger.\n",
            "48. I feel right in our discussions.\n",
            "49. I have nothing to do with what I've been accused of.\n",
            "50. I'm not actually the one who's guilty about what I'm accused of.\n",
            "51. I'm not the one who's wrong about problems at home.\n",
            "52. I wouldn't hesitate to tell my spouse about her/his inadequacy.\n",
            "  53. When I discuss, I remind my spouse of her/his inadequacy.\n",
            "  54. I'm not afraid to tell my spouse about her/his incompetence.\n"
          ]
        }
      ]
    },
    {
      "cell_type": "code",
      "source": [
        "divorce_data.info()"
      ],
      "metadata": {
        "colab": {
          "base_uri": "https://localhost:8080/"
        },
        "id": "Nd5FFFg3BoXc",
        "outputId": "0601960a-97ce-4e0f-8a71-fa33d0aedea6"
      },
      "execution_count": null,
      "outputs": [
        {
          "output_type": "stream",
          "name": "stdout",
          "text": [
            "<class 'pandas.core.frame.DataFrame'>\n",
            "RangeIndex: 170 entries, 0 to 169\n",
            "Data columns (total 55 columns):\n",
            " #   Column  Non-Null Count  Dtype\n",
            "---  ------  --------------  -----\n",
            " 0   Atr1    170 non-null    int64\n",
            " 1   Atr2    170 non-null    int64\n",
            " 2   Atr3    170 non-null    int64\n",
            " 3   Atr4    170 non-null    int64\n",
            " 4   Atr5    170 non-null    int64\n",
            " 5   Atr6    170 non-null    int64\n",
            " 6   Atr7    170 non-null    int64\n",
            " 7   Atr8    170 non-null    int64\n",
            " 8   Atr9    170 non-null    int64\n",
            " 9   Atr10   170 non-null    int64\n",
            " 10  Atr11   170 non-null    int64\n",
            " 11  Atr12   170 non-null    int64\n",
            " 12  Atr13   170 non-null    int64\n",
            " 13  Atr14   170 non-null    int64\n",
            " 14  Atr15   170 non-null    int64\n",
            " 15  Atr16   170 non-null    int64\n",
            " 16  Atr17   170 non-null    int64\n",
            " 17  Atr18   170 non-null    int64\n",
            " 18  Atr19   170 non-null    int64\n",
            " 19  Atr20   170 non-null    int64\n",
            " 20  Atr21   170 non-null    int64\n",
            " 21  Atr22   170 non-null    int64\n",
            " 22  Atr23   170 non-null    int64\n",
            " 23  Atr24   170 non-null    int64\n",
            " 24  Atr25   170 non-null    int64\n",
            " 25  Atr26   170 non-null    int64\n",
            " 26  Atr27   170 non-null    int64\n",
            " 27  Atr28   170 non-null    int64\n",
            " 28  Atr29   170 non-null    int64\n",
            " 29  Atr30   170 non-null    int64\n",
            " 30  Atr31   170 non-null    int64\n",
            " 31  Atr32   170 non-null    int64\n",
            " 32  Atr33   170 non-null    int64\n",
            " 33  Atr34   170 non-null    int64\n",
            " 34  Atr35   170 non-null    int64\n",
            " 35  Atr36   170 non-null    int64\n",
            " 36  Atr37   170 non-null    int64\n",
            " 37  Atr38   170 non-null    int64\n",
            " 38  Atr39   170 non-null    int64\n",
            " 39  Atr40   170 non-null    int64\n",
            " 40  Atr41   170 non-null    int64\n",
            " 41  Atr42   170 non-null    int64\n",
            " 42  Atr43   170 non-null    int64\n",
            " 43  Atr44   170 non-null    int64\n",
            " 44  Atr45   170 non-null    int64\n",
            " 45  Atr46   170 non-null    int64\n",
            " 46  Atr47   170 non-null    int64\n",
            " 47  Atr48   170 non-null    int64\n",
            " 48  Atr49   170 non-null    int64\n",
            " 49  Atr50   170 non-null    int64\n",
            " 50  Atr51   170 non-null    int64\n",
            " 51  Atr52   170 non-null    int64\n",
            " 52  Atr53   170 non-null    int64\n",
            " 53  Atr54   170 non-null    int64\n",
            " 54  Class   170 non-null    int64\n",
            "dtypes: int64(55)\n",
            "memory usage: 73.2 KB\n"
          ]
        }
      ]
    },
    {
      "cell_type": "code",
      "source": [
        "divorce_data.describe()"
      ],
      "metadata": {
        "colab": {
          "base_uri": "https://localhost:8080/",
          "height": 297
        },
        "id": "K2cOvPT8BwHn",
        "outputId": "896749a7-b9fb-4a8c-e33e-fb8fcabb83e1"
      },
      "execution_count": null,
      "outputs": [
        {
          "output_type": "execute_result",
          "data": {
            "text/plain": [
              "             Atr1        Atr2        Atr3        Atr4        Atr5        Atr6  \\\n",
              "count  170.000000  170.000000  170.000000  170.000000  170.000000  170.000000   \n",
              "mean     1.776471    1.652941    1.764706    1.482353    1.541176    0.747059   \n",
              "std      1.627257    1.468654    1.415444    1.504327    1.632169    0.904046   \n",
              "min      0.000000    0.000000    0.000000    0.000000    0.000000    0.000000   \n",
              "25%      0.000000    0.000000    0.000000    0.000000    0.000000    0.000000   \n",
              "50%      2.000000    2.000000    2.000000    1.000000    1.000000    0.000000   \n",
              "75%      3.000000    3.000000    3.000000    3.000000    3.000000    1.000000   \n",
              "max      4.000000    4.000000    4.000000    4.000000    4.000000    4.000000   \n",
              "\n",
              "             Atr7        Atr8        Atr9       Atr10  ...       Atr46  \\\n",
              "count  170.000000  170.000000  170.000000  170.000000  ...  170.000000   \n",
              "mean     0.494118    1.452941    1.458824    1.576471  ...    2.552941   \n",
              "std      0.898698    1.546371    1.557976    1.421529  ...    1.371786   \n",
              "min      0.000000    0.000000    0.000000    0.000000  ...    0.000000   \n",
              "25%      0.000000    0.000000    0.000000    0.000000  ...    2.000000   \n",
              "50%      0.000000    1.000000    1.000000    2.000000  ...    3.000000   \n",
              "75%      1.000000    3.000000    3.000000    3.000000  ...    4.000000   \n",
              "max      4.000000    4.000000    4.000000    4.000000  ...    4.000000   \n",
              "\n",
              "            Atr47       Atr48       Atr49       Atr50       Atr51       Atr52  \\\n",
              "count  170.000000  170.000000  170.000000  170.000000  170.000000  170.000000   \n",
              "mean     2.270588    2.741176    2.382353    2.429412    2.476471    2.517647   \n",
              "std      1.586841    1.137348    1.511587    1.405090    1.260238    1.476537   \n",
              "min      0.000000    0.000000    0.000000    0.000000    0.000000    0.000000   \n",
              "25%      1.000000    2.000000    1.000000    1.000000    2.000000    1.000000   \n",
              "50%      2.000000    3.000000    3.000000    2.000000    3.000000    3.000000   \n",
              "75%      4.000000    4.000000    4.000000    4.000000    4.000000    4.000000   \n",
              "max      4.000000    4.000000    4.000000    4.000000    4.000000    4.000000   \n",
              "\n",
              "            Atr53       Atr54       Class  \n",
              "count  170.000000  170.000000  170.000000  \n",
              "mean     2.241176    2.011765    0.494118  \n",
              "std      1.505634    1.667611    0.501442  \n",
              "min      0.000000    0.000000    0.000000  \n",
              "25%      1.000000    0.000000    0.000000  \n",
              "50%      2.000000    2.000000    0.000000  \n",
              "75%      4.000000    4.000000    1.000000  \n",
              "max      4.000000    4.000000    1.000000  \n",
              "\n",
              "[8 rows x 55 columns]"
            ],
            "text/html": [
              "\n",
              "  <div id=\"df-322115f9-ee16-4d1c-ab22-939d7c39506e\">\n",
              "    <div class=\"colab-df-container\">\n",
              "      <div>\n",
              "<style scoped>\n",
              "    .dataframe tbody tr th:only-of-type {\n",
              "        vertical-align: middle;\n",
              "    }\n",
              "\n",
              "    .dataframe tbody tr th {\n",
              "        vertical-align: top;\n",
              "    }\n",
              "\n",
              "    .dataframe thead th {\n",
              "        text-align: right;\n",
              "    }\n",
              "</style>\n",
              "<table border=\"1\" class=\"dataframe\">\n",
              "  <thead>\n",
              "    <tr style=\"text-align: right;\">\n",
              "      <th></th>\n",
              "      <th>Atr1</th>\n",
              "      <th>Atr2</th>\n",
              "      <th>Atr3</th>\n",
              "      <th>Atr4</th>\n",
              "      <th>Atr5</th>\n",
              "      <th>Atr6</th>\n",
              "      <th>Atr7</th>\n",
              "      <th>Atr8</th>\n",
              "      <th>Atr9</th>\n",
              "      <th>Atr10</th>\n",
              "      <th>...</th>\n",
              "      <th>Atr46</th>\n",
              "      <th>Atr47</th>\n",
              "      <th>Atr48</th>\n",
              "      <th>Atr49</th>\n",
              "      <th>Atr50</th>\n",
              "      <th>Atr51</th>\n",
              "      <th>Atr52</th>\n",
              "      <th>Atr53</th>\n",
              "      <th>Atr54</th>\n",
              "      <th>Class</th>\n",
              "    </tr>\n",
              "  </thead>\n",
              "  <tbody>\n",
              "    <tr>\n",
              "      <th>count</th>\n",
              "      <td>170.000000</td>\n",
              "      <td>170.000000</td>\n",
              "      <td>170.000000</td>\n",
              "      <td>170.000000</td>\n",
              "      <td>170.000000</td>\n",
              "      <td>170.000000</td>\n",
              "      <td>170.000000</td>\n",
              "      <td>170.000000</td>\n",
              "      <td>170.000000</td>\n",
              "      <td>170.000000</td>\n",
              "      <td>...</td>\n",
              "      <td>170.000000</td>\n",
              "      <td>170.000000</td>\n",
              "      <td>170.000000</td>\n",
              "      <td>170.000000</td>\n",
              "      <td>170.000000</td>\n",
              "      <td>170.000000</td>\n",
              "      <td>170.000000</td>\n",
              "      <td>170.000000</td>\n",
              "      <td>170.000000</td>\n",
              "      <td>170.000000</td>\n",
              "    </tr>\n",
              "    <tr>\n",
              "      <th>mean</th>\n",
              "      <td>1.776471</td>\n",
              "      <td>1.652941</td>\n",
              "      <td>1.764706</td>\n",
              "      <td>1.482353</td>\n",
              "      <td>1.541176</td>\n",
              "      <td>0.747059</td>\n",
              "      <td>0.494118</td>\n",
              "      <td>1.452941</td>\n",
              "      <td>1.458824</td>\n",
              "      <td>1.576471</td>\n",
              "      <td>...</td>\n",
              "      <td>2.552941</td>\n",
              "      <td>2.270588</td>\n",
              "      <td>2.741176</td>\n",
              "      <td>2.382353</td>\n",
              "      <td>2.429412</td>\n",
              "      <td>2.476471</td>\n",
              "      <td>2.517647</td>\n",
              "      <td>2.241176</td>\n",
              "      <td>2.011765</td>\n",
              "      <td>0.494118</td>\n",
              "    </tr>\n",
              "    <tr>\n",
              "      <th>std</th>\n",
              "      <td>1.627257</td>\n",
              "      <td>1.468654</td>\n",
              "      <td>1.415444</td>\n",
              "      <td>1.504327</td>\n",
              "      <td>1.632169</td>\n",
              "      <td>0.904046</td>\n",
              "      <td>0.898698</td>\n",
              "      <td>1.546371</td>\n",
              "      <td>1.557976</td>\n",
              "      <td>1.421529</td>\n",
              "      <td>...</td>\n",
              "      <td>1.371786</td>\n",
              "      <td>1.586841</td>\n",
              "      <td>1.137348</td>\n",
              "      <td>1.511587</td>\n",
              "      <td>1.405090</td>\n",
              "      <td>1.260238</td>\n",
              "      <td>1.476537</td>\n",
              "      <td>1.505634</td>\n",
              "      <td>1.667611</td>\n",
              "      <td>0.501442</td>\n",
              "    </tr>\n",
              "    <tr>\n",
              "      <th>min</th>\n",
              "      <td>0.000000</td>\n",
              "      <td>0.000000</td>\n",
              "      <td>0.000000</td>\n",
              "      <td>0.000000</td>\n",
              "      <td>0.000000</td>\n",
              "      <td>0.000000</td>\n",
              "      <td>0.000000</td>\n",
              "      <td>0.000000</td>\n",
              "      <td>0.000000</td>\n",
              "      <td>0.000000</td>\n",
              "      <td>...</td>\n",
              "      <td>0.000000</td>\n",
              "      <td>0.000000</td>\n",
              "      <td>0.000000</td>\n",
              "      <td>0.000000</td>\n",
              "      <td>0.000000</td>\n",
              "      <td>0.000000</td>\n",
              "      <td>0.000000</td>\n",
              "      <td>0.000000</td>\n",
              "      <td>0.000000</td>\n",
              "      <td>0.000000</td>\n",
              "    </tr>\n",
              "    <tr>\n",
              "      <th>25%</th>\n",
              "      <td>0.000000</td>\n",
              "      <td>0.000000</td>\n",
              "      <td>0.000000</td>\n",
              "      <td>0.000000</td>\n",
              "      <td>0.000000</td>\n",
              "      <td>0.000000</td>\n",
              "      <td>0.000000</td>\n",
              "      <td>0.000000</td>\n",
              "      <td>0.000000</td>\n",
              "      <td>0.000000</td>\n",
              "      <td>...</td>\n",
              "      <td>2.000000</td>\n",
              "      <td>1.000000</td>\n",
              "      <td>2.000000</td>\n",
              "      <td>1.000000</td>\n",
              "      <td>1.000000</td>\n",
              "      <td>2.000000</td>\n",
              "      <td>1.000000</td>\n",
              "      <td>1.000000</td>\n",
              "      <td>0.000000</td>\n",
              "      <td>0.000000</td>\n",
              "    </tr>\n",
              "    <tr>\n",
              "      <th>50%</th>\n",
              "      <td>2.000000</td>\n",
              "      <td>2.000000</td>\n",
              "      <td>2.000000</td>\n",
              "      <td>1.000000</td>\n",
              "      <td>1.000000</td>\n",
              "      <td>0.000000</td>\n",
              "      <td>0.000000</td>\n",
              "      <td>1.000000</td>\n",
              "      <td>1.000000</td>\n",
              "      <td>2.000000</td>\n",
              "      <td>...</td>\n",
              "      <td>3.000000</td>\n",
              "      <td>2.000000</td>\n",
              "      <td>3.000000</td>\n",
              "      <td>3.000000</td>\n",
              "      <td>2.000000</td>\n",
              "      <td>3.000000</td>\n",
              "      <td>3.000000</td>\n",
              "      <td>2.000000</td>\n",
              "      <td>2.000000</td>\n",
              "      <td>0.000000</td>\n",
              "    </tr>\n",
              "    <tr>\n",
              "      <th>75%</th>\n",
              "      <td>3.000000</td>\n",
              "      <td>3.000000</td>\n",
              "      <td>3.000000</td>\n",
              "      <td>3.000000</td>\n",
              "      <td>3.000000</td>\n",
              "      <td>1.000000</td>\n",
              "      <td>1.000000</td>\n",
              "      <td>3.000000</td>\n",
              "      <td>3.000000</td>\n",
              "      <td>3.000000</td>\n",
              "      <td>...</td>\n",
              "      <td>4.000000</td>\n",
              "      <td>4.000000</td>\n",
              "      <td>4.000000</td>\n",
              "      <td>4.000000</td>\n",
              "      <td>4.000000</td>\n",
              "      <td>4.000000</td>\n",
              "      <td>4.000000</td>\n",
              "      <td>4.000000</td>\n",
              "      <td>4.000000</td>\n",
              "      <td>1.000000</td>\n",
              "    </tr>\n",
              "    <tr>\n",
              "      <th>max</th>\n",
              "      <td>4.000000</td>\n",
              "      <td>4.000000</td>\n",
              "      <td>4.000000</td>\n",
              "      <td>4.000000</td>\n",
              "      <td>4.000000</td>\n",
              "      <td>4.000000</td>\n",
              "      <td>4.000000</td>\n",
              "      <td>4.000000</td>\n",
              "      <td>4.000000</td>\n",
              "      <td>4.000000</td>\n",
              "      <td>...</td>\n",
              "      <td>4.000000</td>\n",
              "      <td>4.000000</td>\n",
              "      <td>4.000000</td>\n",
              "      <td>4.000000</td>\n",
              "      <td>4.000000</td>\n",
              "      <td>4.000000</td>\n",
              "      <td>4.000000</td>\n",
              "      <td>4.000000</td>\n",
              "      <td>4.000000</td>\n",
              "      <td>1.000000</td>\n",
              "    </tr>\n",
              "  </tbody>\n",
              "</table>\n",
              "<p>8 rows × 55 columns</p>\n",
              "</div>\n",
              "      <button class=\"colab-df-convert\" onclick=\"convertToInteractive('df-322115f9-ee16-4d1c-ab22-939d7c39506e')\"\n",
              "              title=\"Convert this dataframe to an interactive table.\"\n",
              "              style=\"display:none;\">\n",
              "        \n",
              "  <svg xmlns=\"http://www.w3.org/2000/svg\" height=\"24px\"viewBox=\"0 0 24 24\"\n",
              "       width=\"24px\">\n",
              "    <path d=\"M0 0h24v24H0V0z\" fill=\"none\"/>\n",
              "    <path d=\"M18.56 5.44l.94 2.06.94-2.06 2.06-.94-2.06-.94-.94-2.06-.94 2.06-2.06.94zm-11 1L8.5 8.5l.94-2.06 2.06-.94-2.06-.94L8.5 2.5l-.94 2.06-2.06.94zm10 10l.94 2.06.94-2.06 2.06-.94-2.06-.94-.94-2.06-.94 2.06-2.06.94z\"/><path d=\"M17.41 7.96l-1.37-1.37c-.4-.4-.92-.59-1.43-.59-.52 0-1.04.2-1.43.59L10.3 9.45l-7.72 7.72c-.78.78-.78 2.05 0 2.83L4 21.41c.39.39.9.59 1.41.59.51 0 1.02-.2 1.41-.59l7.78-7.78 2.81-2.81c.8-.78.8-2.07 0-2.86zM5.41 20L4 18.59l7.72-7.72 1.47 1.35L5.41 20z\"/>\n",
              "  </svg>\n",
              "      </button>\n",
              "      \n",
              "  <style>\n",
              "    .colab-df-container {\n",
              "      display:flex;\n",
              "      flex-wrap:wrap;\n",
              "      gap: 12px;\n",
              "    }\n",
              "\n",
              "    .colab-df-convert {\n",
              "      background-color: #E8F0FE;\n",
              "      border: none;\n",
              "      border-radius: 50%;\n",
              "      cursor: pointer;\n",
              "      display: none;\n",
              "      fill: #1967D2;\n",
              "      height: 32px;\n",
              "      padding: 0 0 0 0;\n",
              "      width: 32px;\n",
              "    }\n",
              "\n",
              "    .colab-df-convert:hover {\n",
              "      background-color: #E2EBFA;\n",
              "      box-shadow: 0px 1px 2px rgba(60, 64, 67, 0.3), 0px 1px 3px 1px rgba(60, 64, 67, 0.15);\n",
              "      fill: #174EA6;\n",
              "    }\n",
              "\n",
              "    [theme=dark] .colab-df-convert {\n",
              "      background-color: #3B4455;\n",
              "      fill: #D2E3FC;\n",
              "    }\n",
              "\n",
              "    [theme=dark] .colab-df-convert:hover {\n",
              "      background-color: #434B5C;\n",
              "      box-shadow: 0px 1px 3px 1px rgba(0, 0, 0, 0.15);\n",
              "      filter: drop-shadow(0px 1px 2px rgba(0, 0, 0, 0.3));\n",
              "      fill: #FFFFFF;\n",
              "    }\n",
              "  </style>\n",
              "\n",
              "      <script>\n",
              "        const buttonEl =\n",
              "          document.querySelector('#df-322115f9-ee16-4d1c-ab22-939d7c39506e button.colab-df-convert');\n",
              "        buttonEl.style.display =\n",
              "          google.colab.kernel.accessAllowed ? 'block' : 'none';\n",
              "\n",
              "        async function convertToInteractive(key) {\n",
              "          const element = document.querySelector('#df-322115f9-ee16-4d1c-ab22-939d7c39506e');\n",
              "          const dataTable =\n",
              "            await google.colab.kernel.invokeFunction('convertToInteractive',\n",
              "                                                     [key], {});\n",
              "          if (!dataTable) return;\n",
              "\n",
              "          const docLinkHtml = 'Like what you see? Visit the ' +\n",
              "            '<a target=\"_blank\" href=https://colab.research.google.com/notebooks/data_table.ipynb>data table notebook</a>'\n",
              "            + ' to learn more about interactive tables.';\n",
              "          element.innerHTML = '';\n",
              "          dataTable['output_type'] = 'display_data';\n",
              "          await google.colab.output.renderOutput(dataTable, element);\n",
              "          const docLink = document.createElement('div');\n",
              "          docLink.innerHTML = docLinkHtml;\n",
              "          element.appendChild(docLink);\n",
              "        }\n",
              "      </script>\n",
              "    </div>\n",
              "  </div>\n",
              "  "
            ]
          },
          "metadata": {},
          "execution_count": 23
        },
        {
          "output_type": "stream",
          "name": "stdout",
          "text": [
            "Warning: Total number of columns (55) exceeds max_columns (20) limiting to first (20) columns.\n"
          ]
        }
      ]
    },
    {
      "cell_type": "code",
      "source": [
        "divorce_data.nunique()"
      ],
      "metadata": {
        "colab": {
          "base_uri": "https://localhost:8080/"
        },
        "id": "6VhN_jY1Bzz3",
        "outputId": "48cb13c7-3acd-4805-cdc7-52eb4267c4a6"
      },
      "execution_count": null,
      "outputs": [
        {
          "output_type": "execute_result",
          "data": {
            "text/plain": [
              "Atr1     5\n",
              "Atr2     5\n",
              "Atr3     5\n",
              "Atr4     5\n",
              "Atr5     5\n",
              "Atr6     5\n",
              "Atr7     5\n",
              "Atr8     5\n",
              "Atr9     5\n",
              "Atr10    5\n",
              "Atr11    5\n",
              "Atr12    5\n",
              "Atr13    5\n",
              "Atr14    5\n",
              "Atr15    5\n",
              "Atr16    5\n",
              "Atr17    5\n",
              "Atr18    5\n",
              "Atr19    5\n",
              "Atr20    5\n",
              "Atr21    5\n",
              "Atr22    5\n",
              "Atr23    5\n",
              "Atr24    5\n",
              "Atr25    5\n",
              "Atr26    5\n",
              "Atr27    5\n",
              "Atr28    5\n",
              "Atr29    5\n",
              "Atr30    5\n",
              "Atr31    5\n",
              "Atr32    5\n",
              "Atr33    5\n",
              "Atr34    5\n",
              "Atr35    5\n",
              "Atr36    5\n",
              "Atr37    5\n",
              "Atr38    5\n",
              "Atr39    5\n",
              "Atr40    5\n",
              "Atr41    5\n",
              "Atr42    5\n",
              "Atr43    5\n",
              "Atr44    5\n",
              "Atr45    5\n",
              "Atr46    5\n",
              "Atr47    5\n",
              "Atr48    5\n",
              "Atr49    5\n",
              "Atr50    5\n",
              "Atr51    5\n",
              "Atr52    5\n",
              "Atr53    5\n",
              "Atr54    5\n",
              "Class    2\n",
              "dtype: int64"
            ]
          },
          "metadata": {},
          "execution_count": 24
        }
      ]
    },
    {
      "cell_type": "code",
      "source": [
        "for i in divorce_data.columns:\n",
        "    plt.figure(figsize=(15,6))\n",
        "    sns.countplot(divorce_data[i], data = divorce_data)\n",
        "    plt.show()"
      ],
      "metadata": {
        "colab": {
          "base_uri": "https://localhost:8080/",
          "height": 1000
        },
        "id": "jMdQYagwDzQa",
        "outputId": "c9795409-d8cd-49d8-e1a6-28f414e586d7"
      },
      "execution_count": null,
      "outputs": [
        {
          "output_type": "display_data",
          "data": {
            "text/plain": [
              "<Figure size 1080x432 with 1 Axes>"
            ],
            "image/png": "[encoded data removed]"
          },
          "metadata": {
            "needs_background": "light"
          }
        },
        {
          "output_type": "display_data",
          "data": {
            "text/plain": [
              "<Figure size 1080x432 with 1 Axes>"
            ],
            "image/png": "[encoded data removed]"
          },
          "metadata": {
            "needs_background": "light"
          }
        },
        {
          "output_type": "display_data",
          "data": {
            "text/plain": [
              "<Figure size 1080x432 with 1 Axes>"
            ],
            "image/png": "[encoded data removed]"
          },
          "metadata": {
            "needs_background": "light"
          }
        },
        {
          "output_type": "display_data",
          "data": {
            "text/plain": [
              "<Figure size 1080x432 with 1 Axes>"
            ],
            "image/png": "[encoded data removed]"
          },
          "metadata": {
            "needs_background": "light"
          }
        },
        {
          "output_type": "display_data",
          "data": {
            "text/plain": [
              "<Figure size 1080x432 with 1 Axes>"
            ],
            "image/png": "[encoded data removed]"
          },
          "metadata": {
            "needs_background": "light"
          }
        },
        {
          "output_type": "display_data",
          "data": {
            "text/plain": [
              "<Figure size 1080x432 with 1 Axes>"
            ],
            "image/png": "[encoded data removed]"
          },
          "metadata": {
            "needs_background": "light"
          }
        },
        {
          "output_type": "display_data",
          "data": {
            "text/plain": [
              "<Figure size 1080x432 with 1 Axes>"
            ],
            "image/png": "[encoded data removed]"
          },
          "metadata": {
            "needs_background": "light"
          }
        },
        {
          "output_type": "display_data",
          "data": {
            "text/plain": [
              "<Figure size 1080x432 with 1 Axes>"
            ],
            "image/png": "[encoded data removed]"
          },
          "metadata": {
            "needs_background": "light"
          }
        },
        {
          "output_type": "display_data",
          "data": {
            "text/plain": [
              "<Figure size 1080x432 with 1 Axes>"
            ],
            "image/png": "[encoded data removed]"
          },
          "metadata": {
            "needs_background": "light"
          }
        },
        {
          "output_type": "display_data",
          "data": {
            "text/plain": [
              "<Figure size 1080x432 with 1 Axes>"
            ],
            "image/png": "[encoded data removed]"
          },
          "metadata": {
            "needs_background": "light"
          }
        },
        {
          "output_type": "display_data",
          "data": {
            "text/plain": [
              "<Figure size 1080x432 with 1 Axes>"
            ],
            "image/png": "[encoded data removed]"
          },
          "metadata": {
            "needs_background": "light"
          }
        },
        {
          "output_type": "display_data",
          "data": {
            "text/plain": [
              "<Figure size 1080x432 with 1 Axes>"
            ],
            "image/png": "[encoded data removed]"
          },
          "metadata": {
            "needs_background": "light"
          }
        },
        {
          "output_type": "display_data",
          "data": {
            "text/plain": [
              "<Figure size 1080x432 with 1 Axes>"
            ],
            "image/png": "[encoded data removed]"
          },
          "metadata": {
            "needs_background": "light"
          }
        },
        {
          "output_type": "display_data",
          "data": {
            "text/plain": [
              "<Figure size 1080x432 with 1 Axes>"
            ],
            "image/png": "[encoded data removed]"
          },
          "metadata": {
            "needs_background": "light"
          }
        },
        {
          "output_type": "display_data",
          "data": {
            "text/plain": [
              "<Figure size 1080x432 with 1 Axes>"
            ],
            "image/png": "[encoded data removed]"
          },
          "metadata": {
            "needs_background": "light"
          }
        },
        {
          "output_type": "display_data",
          "data": {
            "text/plain": [
              "<Figure size 1080x432 with 1 Axes>"
            ],
            "image/png": "[encoded data removed]"
          },
          "metadata": {
            "needs_background": "light"
          }
        },
        {
          "output_type": "display_data",
          "data": {
            "text/plain": [
              "<Figure size 1080x432 with 1 Axes>"
            ],
            "image/png": "[encoded data removed]"
          },
          "metadata": {
            "needs_background": "light"
          }
        },
        {
          "output_type": "display_data",
          "data": {
            "text/plain": [
              "<Figure size 1080x432 with 1 Axes>"
            ],
            "image/png": "[encoded data removed]"
          },
          "metadata": {
            "needs_background": "light"
          }
        },
        {
          "output_type": "display_data",
          "data": {
            "text/plain": [
              "<Figure size 1080x432 with 1 Axes>"
            ],
            "image/png": "[encoded data removed]"
          },
          "metadata": {
            "needs_background": "light"
          }
        },
        {
          "output_type": "display_data",
          "data": {
            "text/plain": [
              "<Figure size 1080x432 with 1 Axes>"
            ],
            "image/png": "[encoded data removed]"
          },
          "metadata": {
            "needs_background": "light"
          }
        },
        {
          "output_type": "display_data",
          "data": {
            "text/plain": [
              "<Figure size 1080x432 with 1 Axes>"
            ],
            "image/png": "[encoded data removed]"
          },
          "metadata": {
            "needs_background": "light"
          }
        },
        {
          "output_type": "display_data",
          "data": {
            "text/plain": [
              "<Figure size 1080x432 with 1 Axes>"
            ],
            "image/png": "[encoded data removed]"
          },
          "metadata": {
            "needs_background": "light"
          }
        },
        {
          "output_type": "display_data",
          "data": {
            "text/plain": [
              "<Figure size 1080x432 with 1 Axes>"
            ],
            "image/png": "[encoded data removed]"
          },
          "metadata": {
            "needs_background": "light"
          }
        },
        {
          "output_type": "display_data",
          "data": {
            "text/plain": [
              "<Figure size 1080x432 with 1 Axes>"
            ],
            "image/png": "[encoded data removed]"
          },
          "metadata": {
            "needs_background": "light"
          }
        },
        {
          "output_type": "display_data",
          "data": {
            "text/plain": [
              "<Figure size 1080x432 with 1 Axes>"
            ],
            "image/png": "[encoded data removed]"
          },
          "metadata": {
            "needs_background": "light"
          }
        },
        {
          "output_type": "display_data",
          "data": {
            "text/plain": [
              "<Figure size 1080x432 with 1 Axes>"
            ],
            "image/png": "[encoded data removed]"
          },
          "metadata": {
            "needs_background": "light"
          }
        },
        {
          "output_type": "display_data",
          "data": {
            "text/plain": [
              "<Figure size 1080x432 with 1 Axes>"
            ],
            "image/png": "[encoded data removed]"
          },
          "metadata": {
            "needs_background": "light"
          }
        },
        {
          "output_type": "display_data",
          "data": {
            "text/plain": [
              "<Figure size 1080x432 with 1 Axes>"
            ],
            "image/png": "[encoded data removed]"
          },
          "metadata": {
            "needs_background": "light"
          }
        },
        {
          "output_type": "display_data",
          "data": {
            "text/plain": [
              "<Figure size 1080x432 with 1 Axes>"
            ],
            "image/png": "[encoded data removed]"
          },
          "metadata": {
            "needs_background": "light"
          }
        },
        {
          "output_type": "display_data",
          "data": {
            "text/plain": [
              "<Figure size 1080x432 with 1 Axes>"
            ],
            "image/png": "[encoded data removed]"
          },
          "metadata": {
            "needs_background": "light"
          }
        },
        {
          "output_type": "display_data",
          "data": {
            "text/plain": [
              "<Figure size 1080x432 with 1 Axes>"
            ],
            "image/png": "[encoded data removed]"
          },
          "metadata": {
            "needs_background": "light"
          }
        },
        {
          "output_type": "display_data",
          "data": {
            "text/plain": [
              "<Figure size 1080x432 with 1 Axes>"
            ],
            "image/png": "[encoded data removed]"
          },
          "metadata": {
            "needs_background": "light"
          }
        },
        {
          "output_type": "display_data",
          "data": {
            "text/plain": [
              "<Figure size 1080x432 with 1 Axes>"
            ],
            "image/png": "[encoded data removed]"
          },
          "metadata": {
            "needs_background": "light"
          }
        },
        {
          "output_type": "display_data",
          "data": {
            "text/plain": [
              "<Figure size 1080x432 with 1 Axes>"
            ],
            "image/png": "[encoded data removed]"
          },
          "metadata": {
            "needs_background": "light"
          }
        },
        {
          "output_type": "display_data",
          "data": {
            "text/plain": [
              "<Figure size 1080x432 with 1 Axes>"
            ],
            "image/png": "[encoded data removed]"
          },
          "metadata": {
            "needs_background": "light"
          }
        },
        {
          "output_type": "display_data",
          "data": {
            "text/plain": [
              "<Figure size 1080x432 with 1 Axes>"
            ],
            "image/png": "[encoded data removed]"
          },
          "metadata": {
            "needs_background": "light"
          }
        },
        {
          "output_type": "display_data",
          "data": {
            "text/plain": [
              "<Figure size 1080x432 with 1 Axes>"
            ],
            "image/png": "[encoded data removed]"
          },
          "metadata": {
            "needs_background": "light"
          }
        },
        {
          "output_type": "display_data",
          "data": {
            "text/plain": [
              "<Figure size 1080x432 with 1 Axes>"
            ],
            "image/png": "[encoded data removed]"
          },
          "metadata": {
            "needs_background": "light"
          }
        },
        {
          "output_type": "display_data",
          "data": {
            "text/plain": [
              "<Figure size 1080x432 with 1 Axes>"
            ],
            "image/png": "[encoded data removed]"
          },
          "metadata": {
            "needs_background": "light"
          }
        },
        {
          "output_type": "display_data",
          "data": {
            "text/plain": [
              "<Figure size 1080x432 with 1 Axes>"
            ],
            "image/png": "[encoded data removed]"
          },
          "metadata": {
            "needs_background": "light"
          }
        },
        {
          "output_type": "display_data",
          "data": {
            "text/plain": [
              "<Figure size 1080x432 with 1 Axes>"
            ],
            "image/png": "[encoded data removed]"
          },
          "metadata": {
            "needs_background": "light"
          }
        },
        {
          "output_type": "display_data",
          "data": {
            "text/plain": [
              "<Figure size 1080x432 with 1 Axes>"
            ],
            "image/png": "[encoded data removed]"
          },
          "metadata": {
            "needs_background": "light"
          }
        },
        {
          "output_type": "display_data",
          "data": {
            "text/plain": [
              "<Figure size 1080x432 with 1 Axes>"
            ],
            "image/png": "[encoded data removed]"
          },
          "metadata": {
            "needs_background": "light"
          }
        },
        {
          "output_type": "display_data",
          "data": {
            "text/plain": [
              "<Figure size 1080x432 with 1 Axes>"
            ],
            "image/png": "[encoded data removed]"
          },
          "metadata": {
            "needs_background": "light"
          }
        },
        {
          "output_type": "display_data",
          "data": {
            "text/plain": [
              "<Figure size 1080x432 with 1 Axes>"
            ],
            "image/png": "[encoded data removed]"
          },
          "metadata": {
            "needs_background": "light"
          }
        },
        {
          "output_type": "display_data",
          "data": {
            "text/plain": [
              "<Figure size 1080x432 with 1 Axes>"
            ],
            "image/png": "[encoded data removed]"
          },
          "metadata": {
            "needs_background": "light"
          }
        },
        {
          "output_type": "display_data",
          "data": {
            "text/plain": [
              "<Figure size 1080x432 with 1 Axes>"
            ],
            "image/png": "[encoded data removed]"
          },
          "metadata": {
            "needs_background": "light"
          }
        },
        {
          "output_type": "display_data",
          "data": {
            "text/plain": [
              "<Figure size 1080x432 with 1 Axes>"
            ],
            "image/png": "[encoded data removed]"
          },
          "metadata": {
            "needs_background": "light"
          }
        },
        {
          "output_type": "display_data",
          "data": {
            "text/plain": [
              "<Figure size 1080x432 with 1 Axes>"
            ],
            "image/png": "[encoded data removed]"
          },
          "metadata": {
            "needs_background": "light"
          }
        },
        {
          "output_type": "display_data",
          "data": {
            "text/plain": [
              "<Figure size 1080x432 with 1 Axes>"
            ],
            "image/png": "[encoded data removed]"
          },
          "metadata": {
            "needs_background": "light"
          }
        },
        {
          "output_type": "display_data",
          "data": {
            "text/plain": [
              "<Figure size 1080x432 with 1 Axes>"
            ],
            "image/png": "[encoded data removed]"
          },
          "metadata": {
            "needs_background": "light"
          }
        },
        {
          "output_type": "display_data",
          "data": {
            "text/plain": [
              "<Figure size 1080x432 with 1 Axes>"
            ],
            "image/png": "[encoded data removed]"
          },
          "metadata": {
            "needs_background": "light"
          }
        },
        {
          "output_type": "display_data",
          "data": {
            "text/plain": [
              "<Figure size 1080x432 with 1 Axes>"
            ],
            "image/png": "[encoded data removed]"
          },
          "metadata": {
            "needs_background": "light"
          }
        },
        {
          "output_type": "display_data",
          "data": {
            "text/plain": [
              "<Figure size 1080x432 with 1 Axes>"
            ],
            "image/png": "[encoded data removed]"
          },
          "metadata": {
            "needs_background": "light"
          }
        },
        {
          "output_type": "display_data",
          "data": {
            "text/plain": [
              "<Figure size 1080x432 with 1 Axes>"
            ],
            "image/png": "[encoded data removed]"
          },
          "metadata": {
            "needs_background": "light"
          }
        }
      ]
    },
    {
      "cell_type": "code",
      "source": [
        "divorce_data['Class'].values"
      ],
      "metadata": {
        "colab": {
          "base_uri": "https://localhost:8080/"
        },
        "id": "8q8gw1IYEL2Q",
        "outputId": "95e5b6e2-90d4-4499-fa37-75c1cc769c53"
      },
      "execution_count": null,
      "outputs": [
        {
          "output_type": "execute_result",
          "data": {
            "text/plain": [
              "array([1, 1, 1, 1, 1, 1, 1, 1, 1, 1, 1, 1, 1, 1, 1, 1, 1, 1, 1, 1, 1, 1,\n",
              "       1, 1, 1, 1, 1, 1, 1, 1, 1, 1, 1, 1, 1, 1, 1, 1, 1, 1, 1, 1, 1, 1,\n",
              "       1, 1, 1, 1, 1, 1, 1, 1, 1, 1, 1, 1, 1, 1, 1, 1, 1, 1, 1, 1, 1, 1,\n",
              "       1, 1, 1, 1, 1, 1, 1, 1, 1, 1, 1, 1, 1, 1, 1, 1, 1, 1, 0, 0, 0, 0,\n",
              "       0, 0, 0, 0, 0, 0, 0, 0, 0, 0, 0, 0, 0, 0, 0, 0, 0, 0, 0, 0, 0, 0,\n",
              "       0, 0, 0, 0, 0, 0, 0, 0, 0, 0, 0, 0, 0, 0, 0, 0, 0, 0, 0, 0, 0, 0,\n",
              "       0, 0, 0, 0, 0, 0, 0, 0, 0, 0, 0, 0, 0, 0, 0, 0, 0, 0, 0, 0, 0, 0,\n",
              "       0, 0, 0, 0, 0, 0, 0, 0, 0, 0, 0, 0, 0, 0, 0, 0])"
            ]
          },
          "metadata": {},
          "execution_count": 46
        }
      ]
    },
    {
      "cell_type": "code",
      "source": [
        "divorce_data['Class'].unique()"
      ],
      "metadata": {
        "colab": {
          "base_uri": "https://localhost:8080/"
        },
        "id": "JidDMl42EQvI",
        "outputId": "8a66719a-a76b-4e69-a233-82ce2bebaf6f"
      },
      "execution_count": null,
      "outputs": [
        {
          "output_type": "execute_result",
          "data": {
            "text/plain": [
              "array([1, 0])"
            ]
          },
          "metadata": {},
          "execution_count": 47
        }
      ]
    },
    {
      "cell_type": "code",
      "source": [
        "divorce_data['Class'].value_counts()"
      ],
      "metadata": {
        "colab": {
          "base_uri": "https://localhost:8080/"
        },
        "id": "Xik2bc1RETv2",
        "outputId": "953c2605-988d-48ff-d4de-58ca901d987a"
      },
      "execution_count": null,
      "outputs": [
        {
          "output_type": "execute_result",
          "data": {
            "text/plain": [
              "0    86\n",
              "1    84\n",
              "Name: Class, dtype: int64"
            ]
          },
          "metadata": {},
          "execution_count": 48
        }
      ]
    },
    {
      "cell_type": "code",
      "source": [
        "plt.figure(figsize=(15,6))\n",
        "sns.countplot('Class', data = divorce_data)\n",
        "plt.xticks(rotation = 90)\n",
        "plt.show()"
      ],
      "metadata": {
        "colab": {
          "base_uri": "https://localhost:8080/",
          "height": 384
        },
        "id": "_ZGhAbYNEW7d",
        "outputId": "07f9d011-5bd1-494d-dd49-ed16da3aacbb"
      },
      "execution_count": null,
      "outputs": [
        {
          "output_type": "display_data",
          "data": {
            "text/plain": [
              "<Figure size 1080x432 with 1 Axes>"
            ],
            "image/png": "[encoded data removed]"
          },
          "metadata": {
            "needs_background": "light"
          }
        }
      ]
    },
    {
      "cell_type": "code",
      "source": [
        "plt.figure(figsize=(20,10))\n",
        "colors = sns.color_palette('bright')\n",
        "explode = [0.3, 0.02]\n",
        "plt.pie(divorce_data['Class'].value_counts(), colors = colors,\n",
        "        labels = [0, 1], autopct = '%0.0f%%', shadow = 'True',\n",
        "        explode = explode , startangle = 180)\n",
        "plt.show()"
      ],
      "metadata": {
        "colab": {
          "base_uri": "https://localhost:8080/",
          "height": 612
        },
        "id": "d1_THDr8EhcF",
        "outputId": "be0ad4bc-cdaf-4463-c17a-c03d8dd96b87"
      },
      "execution_count": null,
      "outputs": [
        {
          "output_type": "display_data",
          "data": {
            "text/plain": [
              "<Figure size 1440x720 with 1 Axes>"
            ],
            "image/png": "[encoded data removed]"
          },
          "metadata": {}
        }
      ]
    },
    {
      "cell_type": "code",
      "source": [
        "plt.figure(figsize=(15,6))\n",
        "sns.histplot(x=divorce_data['Class'],y=divorce_data.index)\n",
        "plt.xticks(rotation = 90)\n",
        "plt.show()"
      ],
      "metadata": {
        "colab": {
          "base_uri": "https://localhost:8080/",
          "height": 394
        },
        "id": "EgUzoQQwE_v5",
        "outputId": "ead17991-424f-43f1-952d-77f794958713"
      },
      "execution_count": null,
      "outputs": [
        {
          "output_type": "display_data",
          "data": {
            "text/plain": [
              "<Figure size 1080x432 with 1 Axes>"
            ],
            "image/png": "[encoded data removed]"
          },
          "metadata": {
            "needs_background": "light"
          }
        }
      ]
    },
    {
      "cell_type": "code",
      "source": [
        "fig, axes = plt.subplots(11,5,figsize=(28,25))\n",
        "s=0\n",
        "for i in range(0,11):\n",
        "  for j in range(0,5):\n",
        "    s+=1\n",
        "    if s==54:\n",
        "      break\n",
        "      sns.countplot(ax = axes[i,j],x=f'Atr{s}',data=divorce_data,\n",
        "                    hue='Class')\n",
        "      axes[i,j].set_title(f'Atr{s}')"
      ],
      "metadata": {
        "colab": {
          "base_uri": "https://localhost:8080/",
          "height": 1000
        },
        "id": "2W4Y7ON5FIpz",
        "outputId": "0b5fe629-c109-4441-d9cd-01dd91925625"
      },
      "execution_count": null,
      "outputs": [
        {
          "output_type": "display_data",
          "data": {
            "text/plain": [
              "<Figure size 2016x1800 with 55 Axes>"
            ],
            "image/png": "[encoded data removed]"
          },
          "metadata": {
            "needs_background": "light"
          }
        }
      ]
    },
    {
      "cell_type": "code",
      "source": [
        "divorce_data.corr()"
      ],
      "metadata": {
        "colab": {
          "base_uri": "https://localhost:8080/",
          "height": 673
        },
        "id": "IegBY_WtFmX1",
        "outputId": "25399c5e-041f-49df-acaf-93ce0983cba2"
      },
      "execution_count": null,
      "outputs": [
        {
          "output_type": "execute_result",
          "data": {
            "text/plain": [
              "           Atr1      Atr2      Atr3      Atr4      Atr5      Atr6      Atr7  \\\n",
              "Atr1   1.000000  0.819066  0.832508  0.825066  0.881272  0.287140  0.427989   \n",
              "Atr2   0.819066  1.000000  0.805876  0.791313  0.819360  0.102843  0.417616   \n",
              "Atr3   0.832508  0.805876  1.000000  0.806709  0.800774  0.263032  0.464071   \n",
              "Atr4   0.825066  0.791313  0.806709  1.000000  0.818472  0.185963  0.474806   \n",
              "Atr5   0.881272  0.819360  0.800774  0.818472  1.000000  0.297834  0.381378   \n",
              "Atr6   0.287140  0.102843  0.263032  0.185963  0.297834  1.000000  0.424212   \n",
              "Atr7   0.427989  0.417616  0.464071  0.474806  0.381378  0.424212  1.000000   \n",
              "Atr8   0.802357  0.864284  0.757264  0.798347  0.877584  0.184019  0.412807   \n",
              "Atr9   0.845916  0.827711  0.816653  0.829053  0.916327  0.301342  0.517522   \n",
              "Atr10  0.790183  0.782286  0.753017  0.873636  0.823659  0.266076  0.498266   \n",
              "Atr11  0.892253  0.823380  0.805915  0.808533  0.936955  0.340135  0.432479   \n",
              "Atr12  0.794307  0.862835  0.780258  0.793992  0.846513  0.209801  0.511761   \n",
              "Atr13  0.842996  0.791073  0.758969  0.751623  0.915033  0.305109  0.373361   \n",
              "Atr14  0.817099  0.875800  0.750602  0.757000  0.845576  0.224459  0.491021   \n",
              "Atr15  0.848754  0.801316  0.806909  0.794184  0.879461  0.323787  0.494110   \n",
              "Atr16  0.831822  0.806497  0.775528  0.878416  0.853561  0.311056  0.573290   \n",
              "Atr17  0.895970  0.822317  0.808161  0.809968  0.947429  0.377330  0.461450   \n",
              "Atr18  0.853739  0.883856  0.797395  0.835296  0.894474  0.251856  0.544550   \n",
              "Atr19  0.900446  0.829422  0.798999  0.832750  0.943349  0.365227  0.469995   \n",
              "Atr20  0.840966  0.884176  0.807892  0.815896  0.892909  0.230486  0.544207   \n",
              "Atr21  0.815708  0.790468  0.796069  0.775132  0.871994  0.273564  0.409827   \n",
              "Atr22  0.785280  0.795406  0.727933  0.839534  0.840265  0.220010  0.378915   \n",
              "Atr23  0.822534  0.773018  0.706585  0.744783  0.888584  0.246478  0.254912   \n",
              "Atr24  0.813233  0.868240  0.740476  0.776640  0.833608  0.191458  0.446469   \n",
              "Atr25  0.822084  0.769244  0.724506  0.736228  0.888740  0.291159  0.288867   \n",
              "Atr26  0.803507  0.861421  0.728653  0.762765  0.836194  0.200634  0.443149   \n",
              "Atr27  0.829037  0.817364  0.797595  0.767206  0.883768  0.283895  0.444643   \n",
              "Atr28  0.762102  0.776943  0.689914  0.827847  0.809789  0.254858  0.351262   \n",
              "Atr29  0.858139  0.789827  0.755491  0.781792  0.925601  0.309302  0.349379   \n",
              "Atr30  0.792257  0.844007  0.752391  0.772562  0.837501  0.266464  0.448569   \n",
              "Atr31  0.699223  0.661210  0.652188  0.661251  0.785038  0.247634  0.334308   \n",
              "Atr32  0.739679  0.735763  0.747669  0.746677  0.832032  0.316605  0.442306   \n",
              "Atr33  0.799735  0.757286  0.726481  0.764381  0.879037  0.292037  0.395764   \n",
              "Atr34  0.749774  0.714360  0.702500  0.729022  0.827560  0.279789  0.328700   \n",
              "Atr35  0.796413  0.753566  0.730290  0.770813  0.878289  0.276539  0.349076   \n",
              "Atr36  0.812867  0.781295  0.744390  0.794636  0.887498  0.287708  0.370158   \n",
              "Atr37  0.786890  0.747088  0.736984  0.760451  0.859581  0.281458  0.431979   \n",
              "Atr38  0.804129  0.751705  0.740642  0.790350  0.852601  0.297791  0.401769   \n",
              "Atr39  0.817035  0.787768  0.759820  0.763502  0.866293  0.296121  0.477063   \n",
              "Atr40  0.838355  0.788200  0.781657  0.798520  0.871809  0.351433  0.501758   \n",
              "Atr41  0.804182  0.780757  0.739967  0.768706  0.864434  0.329765  0.445483   \n",
              "Atr42  0.642307  0.648539  0.569293  0.639671  0.737922  0.227993  0.333211   \n",
              "Atr43  0.482223  0.503894  0.385152  0.452479  0.613142  0.171599  0.149930   \n",
              "Atr44  0.752972  0.699765  0.661830  0.707212  0.799453  0.339918  0.425874   \n",
              "Atr45  0.510160  0.489062  0.427409  0.446798  0.591656  0.094820  0.199548   \n",
              "Atr46  0.400296  0.389519  0.308149  0.340240  0.470758  0.127759  0.069850   \n",
              "Atr47  0.582693  0.616884  0.544863  0.552301  0.719899  0.212979  0.254225   \n",
              "Atr48  0.633564  0.643762  0.638256  0.630205  0.659220  0.200673  0.311110   \n",
              "Atr49  0.674843  0.659841  0.647961  0.699069  0.762257  0.201091  0.291325   \n",
              "Atr50  0.725443  0.680538  0.663995  0.685263  0.795960  0.221100  0.332370   \n",
              "Atr51  0.684143  0.636558  0.600603  0.624015  0.742664  0.179119  0.349920   \n",
              "Atr52  0.575463  0.536294  0.491803  0.534264  0.663855  0.205056  0.243104   \n",
              "Atr53  0.611422  0.610726  0.598749  0.588390  0.719493  0.258092  0.313725   \n",
              "Atr54  0.768522  0.728897  0.673012  0.698264  0.836799  0.292428  0.347493   \n",
              "Class  0.861324  0.820774  0.806709  0.819583  0.893180  0.420913  0.544835   \n",
              "\n",
              "           Atr8      Atr9     Atr10  ...     Atr46     Atr47     Atr48  \\\n",
              "Atr1   0.802357  0.845916  0.790183  ...  0.400296  0.582693  0.633564   \n",
              "Atr2   0.864284  0.827711  0.782286  ...  0.389519  0.616884  0.643762   \n",
              "Atr3   0.757264  0.816653  0.753017  ...  0.308149  0.544863  0.638256   \n",
              "Atr4   0.798347  0.829053  0.873636  ...  0.340240  0.552301  0.630205   \n",
              "Atr5   0.877584  0.916327  0.823659  ...  0.470758  0.719899  0.659220   \n",
              "Atr6   0.184019  0.301342  0.266076  ...  0.127759  0.212979  0.200673   \n",
              "Atr7   0.412807  0.517522  0.498266  ...  0.069850  0.254225  0.311110   \n",
              "Atr8   1.000000  0.915301  0.828031  ...  0.433541  0.675584  0.588531   \n",
              "Atr9   0.915301  1.000000  0.852385  ...  0.434318  0.693839  0.611726   \n",
              "Atr10  0.828031  0.852385  1.000000  ...  0.342315  0.559998  0.550313   \n",
              "Atr11  0.889795  0.911557  0.855596  ...  0.411962  0.645995  0.616833   \n",
              "Atr12  0.890338  0.869088  0.847474  ...  0.374833  0.632118  0.587084   \n",
              "Atr13  0.840350  0.873048  0.819715  ...  0.441968  0.654707  0.607921   \n",
              "Atr14  0.888822  0.868122  0.797964  ...  0.417249  0.622207  0.613143   \n",
              "Atr15  0.873804  0.949041  0.853898  ...  0.419023  0.652757  0.570107   \n",
              "Atr16  0.865680  0.893377  0.922320  ...  0.404929  0.619932  0.560172   \n",
              "Atr17  0.881005  0.922307  0.843101  ...  0.463868  0.692801  0.611383   \n",
              "Atr18  0.941084  0.925543  0.867250  ...  0.422372  0.645743  0.577324   \n",
              "Atr19  0.873546  0.916472  0.837476  ...  0.459280  0.687382  0.634737   \n",
              "Atr20  0.922465  0.902254  0.846435  ...  0.427054  0.666745  0.623265   \n",
              "Atr21  0.861939  0.909428  0.793875  ...  0.506472  0.714223  0.609352   \n",
              "Atr22  0.857010  0.849978  0.862670  ...  0.503282  0.689916  0.592974   \n",
              "Atr23  0.845731  0.850241  0.750494  ...  0.597487  0.768102  0.623255   \n",
              "Atr24  0.896841  0.851000  0.796453  ...  0.484264  0.692690  0.593157   \n",
              "Atr25  0.809110  0.838754  0.792520  ...  0.535168  0.670306  0.593997   \n",
              "Atr26  0.883414  0.850286  0.802167  ...  0.466021  0.659920  0.584190   \n",
              "Atr27  0.848766  0.903959  0.796466  ...  0.522207  0.702745  0.616280   \n",
              "Atr28  0.822361  0.818032  0.848007  ...  0.485621  0.645103  0.579382   \n",
              "Atr29  0.860194  0.878845  0.790977  ...  0.537866  0.738302  0.629746   \n",
              "Atr30  0.902820  0.854455  0.801220  ...  0.428798  0.635199  0.597375   \n",
              "Atr31  0.716731  0.745699  0.704880  ...  0.443638  0.634671  0.601569   \n",
              "Atr32  0.762425  0.803397  0.759551  ...  0.381200  0.623136  0.690888   \n",
              "Atr33  0.818682  0.844909  0.755521  ...  0.476596  0.687061  0.642480   \n",
              "Atr34  0.780778  0.810135  0.737276  ...  0.479888  0.625707  0.649640   \n",
              "Atr35  0.827441  0.854943  0.755314  ...  0.550157  0.726969  0.628374   \n",
              "Atr36  0.845435  0.871648  0.781450  ...  0.568555  0.715604  0.675947   \n",
              "Atr37  0.800964  0.839067  0.779488  ...  0.421546  0.614817  0.639337   \n",
              "Atr38  0.815830  0.849469  0.796215  ...  0.488014  0.626556  0.635144   \n",
              "Atr39  0.797134  0.850638  0.782768  ...  0.423210  0.652620  0.641082   \n",
              "Atr40  0.822302  0.875661  0.819700  ...  0.485531  0.626907  0.655541   \n",
              "Atr41  0.821081  0.852477  0.777444  ...  0.449828  0.689292  0.624703   \n",
              "Atr42  0.699571  0.737409  0.670209  ...  0.548272  0.717083  0.618045   \n",
              "Atr43  0.555187  0.585679  0.459405  ...  0.561868  0.695560  0.409197   \n",
              "Atr44  0.760016  0.808607  0.723545  ...  0.572467  0.690103  0.594348   \n",
              "Atr45  0.542547  0.575326  0.435798  ...  0.592041  0.720692  0.413413   \n",
              "Atr46  0.433541  0.434318  0.342315  ...  1.000000  0.664794  0.448773   \n",
              "Atr47  0.675584  0.693839  0.559998  ...  0.664794  1.000000  0.602951   \n",
              "Atr48  0.588531  0.611726  0.550313  ...  0.448773  0.602951  1.000000   \n",
              "Atr49  0.674776  0.711503  0.659604  ...  0.530939  0.649803  0.594826   \n",
              "Atr50  0.729668  0.755509  0.672236  ...  0.523832  0.658809  0.640171   \n",
              "Atr51  0.690190  0.713750  0.618666  ...  0.490177  0.600896  0.697531   \n",
              "Atr52  0.658613  0.652376  0.513842  ...  0.550210  0.571223  0.513645   \n",
              "Atr53  0.705071  0.699211  0.592641  ...  0.505164  0.623877  0.637911   \n",
              "Atr54  0.807911  0.810977  0.698528  ...  0.483424  0.689735  0.588135   \n",
              "Class  0.869569  0.912368  0.834897  ...  0.443465  0.656409  0.619830   \n",
              "\n",
              "          Atr49     Atr50     Atr51     Atr52     Atr53     Atr54     Class  \n",
              "Atr1   0.674843  0.725443  0.684143  0.575463  0.611422  0.768522  0.861324  \n",
              "Atr2   0.659841  0.680538  0.636558  0.536294  0.610726  0.728897  0.820774  \n",
              "Atr3   0.647961  0.663995  0.600603  0.491803  0.598749  0.673012  0.806709  \n",
              "Atr4   0.699069  0.685263  0.624015  0.534264  0.588390  0.698264  0.819583  \n",
              "Atr5   0.762257  0.795960  0.742664  0.663855  0.719493  0.836799  0.893180  \n",
              "Atr6   0.201091  0.221100  0.179119  0.205056  0.258092  0.292428  0.420913  \n",
              "Atr7   0.291325  0.332370  0.349920  0.243104  0.313725  0.347493  0.544835  \n",
              "Atr8   0.674776  0.729668  0.690190  0.658613  0.705071  0.807911  0.869569  \n",
              "Atr9   0.711503  0.755509  0.713750  0.652376  0.699211  0.810977  0.912368  \n",
              "Atr10  0.659604  0.672236  0.618666  0.513842  0.592641  0.698528  0.834897  \n",
              "Atr11  0.716001  0.766418  0.696282  0.631223  0.703364  0.819972  0.918386  \n",
              "Atr12  0.662506  0.700609  0.633361  0.541752  0.613401  0.707153  0.868983  \n",
              "Atr13  0.666462  0.746365  0.677543  0.613943  0.682513  0.761607  0.844743  \n",
              "Atr14  0.637968  0.687542  0.649200  0.583448  0.642306  0.764686  0.864316  \n",
              "Atr15  0.672676  0.713697  0.663087  0.579265  0.632804  0.757981  0.901220  \n",
              "Atr16  0.658464  0.711698  0.659871  0.583625  0.623016  0.750224  0.886260  \n",
              "Atr17  0.731158  0.754691  0.698285  0.626845  0.694300  0.812494  0.929346  \n",
              "Atr18  0.703300  0.726645  0.671822  0.620433  0.666990  0.781632  0.923208  \n",
              "Atr19  0.740252  0.752400  0.689729  0.646107  0.691421  0.814552  0.928627  \n",
              "Atr20  0.718281  0.746519  0.700391  0.623030  0.688278  0.801546  0.907008  \n",
              "Atr21  0.735288  0.753011  0.706653  0.642550  0.711991  0.831327  0.864519  \n",
              "Atr22  0.706148  0.736448  0.688090  0.626827  0.700597  0.810719  0.825938  \n",
              "Atr23  0.731493  0.754818  0.695089  0.660679  0.721908  0.828007  0.837504  \n",
              "Atr24  0.699272  0.710019  0.660250  0.617920  0.689712  0.771216  0.839392  \n",
              "Atr25  0.739600  0.768037  0.672088  0.593523  0.663172  0.769315  0.857052  \n",
              "Atr26  0.707706  0.708283  0.649172  0.566313  0.628569  0.747339  0.872868  \n",
              "Atr27  0.741492  0.756652  0.697969  0.629278  0.675915  0.791929  0.869788  \n",
              "Atr28  0.685723  0.701984  0.627694  0.573582  0.659895  0.767266  0.846606  \n",
              "Atr29  0.761812  0.766783  0.704671  0.658174  0.722518  0.846811  0.892954  \n",
              "Atr30  0.699638  0.719207  0.658454  0.619378  0.686362  0.792509  0.874531  \n",
              "Atr31  0.655936  0.687783  0.687045  0.611062  0.679921  0.759989  0.792607  \n",
              "Atr32  0.673165  0.691838  0.741075  0.572254  0.730081  0.766907  0.829056  \n",
              "Atr33  0.766631  0.776502  0.785674  0.709548  0.768211  0.901159  0.861328  \n",
              "Atr34  0.683027  0.713617  0.748990  0.668027  0.757072  0.836086  0.835167  \n",
              "Atr35  0.750962  0.781901  0.707727  0.706958  0.775465  0.891120  0.862624  \n",
              "Atr36  0.741410  0.772204  0.743875  0.694532  0.787044  0.877572  0.886497  \n",
              "Atr37  0.719160  0.754757  0.743814  0.654428  0.736013  0.808107  0.863597  \n",
              "Atr38  0.713444  0.738703  0.718405  0.620069  0.713120  0.835082  0.883311  \n",
              "Atr39  0.738208  0.763041  0.690443  0.650786  0.688828  0.812679  0.896180  \n",
              "Atr40  0.717965  0.756052  0.712333  0.630086  0.716196  0.796685  0.938684  \n",
              "Atr41  0.712495  0.729924  0.666691  0.636622  0.717272  0.849093  0.894356  \n",
              "Atr42  0.618445  0.616437  0.614892  0.580543  0.562994  0.673308  0.739629  \n",
              "Atr43  0.546105  0.523015  0.459008  0.513790  0.387796  0.543614  0.566242  \n",
              "Atr44  0.724733  0.708330  0.676761  0.585740  0.626303  0.741815  0.847336  \n",
              "Atr45  0.530254  0.540485  0.487817  0.495944  0.422336  0.586874  0.546450  \n",
              "Atr46  0.530939  0.523832  0.490177  0.550210  0.505164  0.483424  0.443465  \n",
              "Atr47  0.649803  0.658809  0.600896  0.571223  0.623877  0.689735  0.656409  \n",
              "Atr48  0.594826  0.640171  0.697531  0.513645  0.637911  0.588135  0.619830  \n",
              "Atr49  1.000000  0.863896  0.730045  0.560331  0.541626  0.685991  0.740704  \n",
              "Atr50  0.863896  1.000000  0.852839  0.622362  0.613642  0.747848  0.755248  \n",
              "Atr51  0.730045  0.852839  1.000000  0.610769  0.650090  0.737811  0.692681  \n",
              "Atr52  0.560331  0.622362  0.610769  1.000000  0.803221  0.771315  0.651478  \n",
              "Atr53  0.541626  0.613642  0.650090  0.803221  1.000000  0.788348  0.711176  \n",
              "Atr54  0.685991  0.747848  0.737811  0.771315  0.788348  1.000000  0.806765  \n",
              "Class  0.740704  0.755248  0.692681  0.651478  0.711176  0.806765  1.000000  \n",
              "\n",
              "[55 rows x 55 columns]"
            ],
            "text/html": [
              "\n",
              "  <div id=\"df-5d66799d-28f5-4fdc-b67b-1e7feeda3b94\">\n",
              "    <div class=\"colab-df-container\">\n",
              "      <div>\n",
              "<style scoped>\n",
              "    .dataframe tbody tr th:only-of-type {\n",
              "        vertical-align: middle;\n",
              "    }\n",
              "\n",
              "    .dataframe tbody tr th {\n",
              "        vertical-align: top;\n",
              "    }\n",
              "\n",
              "    .dataframe thead th {\n",
              "        text-align: right;\n",
              "    }\n",
              "</style>\n",
              "<table border=\"1\" class=\"dataframe\">\n",
              "  <thead>\n",
              "    <tr style=\"text-align: right;\">\n",
              "      <th></th>\n",
              "      <th>Atr1</th>\n",
              "      <th>Atr2</th>\n",
              "      <th>Atr3</th>\n",
              "      <th>Atr4</th>\n",
              "      <th>Atr5</th>\n",
              "      <th>Atr6</th>\n",
              "      <th>Atr7</th>\n",
              "      <th>Atr8</th>\n",
              "      <th>Atr9</th>\n",
              "      <th>Atr10</th>\n",
              "      <th>...</th>\n",
              "      <th>Atr46</th>\n",
              "      <th>Atr47</th>\n",
              "      <th>Atr48</th>\n",
              "      <th>Atr49</th>\n",
              "      <th>Atr50</th>\n",
              "      <th>Atr51</th>\n",
              "      <th>Atr52</th>\n",
              "      <th>Atr53</th>\n",
              "      <th>Atr54</th>\n",
              "      <th>Class</th>\n",
              "    </tr>\n",
              "  </thead>\n",
              "  <tbody>\n",
              "    <tr>\n",
              "      <th>Atr1</th>\n",
              "      <td>1.000000</td>\n",
              "      <td>0.819066</td>\n",
              "      <td>0.832508</td>\n",
              "      <td>0.825066</td>\n",
              "      <td>0.881272</td>\n",
              "      <td>0.287140</td>\n",
              "      <td>0.427989</td>\n",
              "      <td>0.802357</td>\n",
              "      <td>0.845916</td>\n",
              "      <td>0.790183</td>\n",
              "      <td>...</td>\n",
              "      <td>0.400296</td>\n",
              "      <td>0.582693</td>\n",
              "      <td>0.633564</td>\n",
              "      <td>0.674843</td>\n",
              "      <td>0.725443</td>\n",
              "      <td>0.684143</td>\n",
              "      <td>0.575463</td>\n",
              "      <td>0.611422</td>\n",
              "      <td>0.768522</td>\n",
              "      <td>0.861324</td>\n",
              "    </tr>\n",
              "    <tr>\n",
              "      <th>Atr2</th>\n",
              "      <td>0.819066</td>\n",
              "      <td>1.000000</td>\n",
              "      <td>0.805876</td>\n",
              "      <td>0.791313</td>\n",
              "      <td>0.819360</td>\n",
              "      <td>0.102843</td>\n",
              "      <td>0.417616</td>\n",
              "      <td>0.864284</td>\n",
              "      <td>0.827711</td>\n",
              "      <td>0.782286</td>\n",
              "      <td>...</td>\n",
              "      <td>0.389519</td>\n",
              "      <td>0.616884</td>\n",
              "      <td>0.643762</td>\n",
              "      <td>0.659841</td>\n",
              "      <td>0.680538</td>\n",
              "      <td>0.636558</td>\n",
              "      <td>0.536294</td>\n",
              "      <td>0.610726</td>\n",
              "      <td>0.728897</td>\n",
              "      <td>0.820774</td>\n",
              "    </tr>\n",
              "    <tr>\n",
              "      <th>Atr3</th>\n",
              "      <td>0.832508</td>\n",
              "      <td>0.805876</td>\n",
              "      <td>1.000000</td>\n",
              "      <td>0.806709</td>\n",
              "      <td>0.800774</td>\n",
              "      <td>0.263032</td>\n",
              "      <td>0.464071</td>\n",
              "      <td>0.757264</td>\n",
              "      <td>0.816653</td>\n",
              "      <td>0.753017</td>\n",
              "      <td>...</td>\n",
              "      <td>0.308149</td>\n",
              "      <td>0.544863</td>\n",
              "      <td>0.638256</td>\n",
              "      <td>0.647961</td>\n",
              "      <td>0.663995</td>\n",
              "      <td>0.600603</td>\n",
              "      <td>0.491803</td>\n",
              "      <td>0.598749</td>\n",
              "      <td>0.673012</td>\n",
              "      <td>0.806709</td>\n",
              "    </tr>\n",
              "    <tr>\n",
              "      <th>Atr4</th>\n",
              "      <td>0.825066</td>\n",
              "      <td>0.791313</td>\n",
              "      <td>0.806709</td>\n",
              "      <td>1.000000</td>\n",
              "      <td>0.818472</td>\n",
              "      <td>0.185963</td>\n",
              "      <td>0.474806</td>\n",
              "      <td>0.798347</td>\n",
              "      <td>0.829053</td>\n",
              "      <td>0.873636</td>\n",
              "      <td>...</td>\n",
              "      <td>0.340240</td>\n",
              "      <td>0.552301</td>\n",
              "      <td>0.630205</td>\n",
              "      <td>0.699069</td>\n",
              "      <td>0.685263</td>\n",
              "      <td>0.624015</td>\n",
              "      <td>0.534264</td>\n",
              "      <td>0.588390</td>\n",
              "      <td>0.698264</td>\n",
              "      <td>0.819583</td>\n",
              "    </tr>\n",
              "    <tr>\n",
              "      <th>Atr5</th>\n",
              "      <td>0.881272</td>\n",
              "      <td>0.819360</td>\n",
              "      <td>0.800774</td>\n",
              "      <td>0.818472</td>\n",
              "      <td>1.000000</td>\n",
              "      <td>0.297834</td>\n",
              "      <td>0.381378</td>\n",
              "      <td>0.877584</td>\n",
              "      <td>0.916327</td>\n",
              "      <td>0.823659</td>\n",
              "      <td>...</td>\n",
              "      <td>0.470758</td>\n",
              "      <td>0.719899</td>\n",
              "      <td>0.659220</td>\n",
              "      <td>0.762257</td>\n",
              "      <td>0.795960</td>\n",
              "      <td>0.742664</td>\n",
              "      <td>0.663855</td>\n",
              "      <td>0.719493</td>\n",
              "      <td>0.836799</td>\n",
              "      <td>0.893180</td>\n",
              "    </tr>\n",
              "    <tr>\n",
              "      <th>Atr6</th>\n",
              "      <td>0.287140</td>\n",
              "      <td>0.102843</td>\n",
              "      <td>0.263032</td>\n",
              "      <td>0.185963</td>\n",
              "      <td>0.297834</td>\n",
              "      <td>1.000000</td>\n",
              "      <td>0.424212</td>\n",
              "      <td>0.184019</td>\n",
              "      <td>0.301342</td>\n",
              "      <td>0.266076</td>\n",
              "      <td>...</td>\n",
              "      <td>0.127759</td>\n",
              "      <td>0.212979</td>\n",
              "      <td>0.200673</td>\n",
              "      <td>0.201091</td>\n",
              "      <td>0.221100</td>\n",
              "      <td>0.179119</td>\n",
              "      <td>0.205056</td>\n",
              "      <td>0.258092</td>\n",
              "      <td>0.292428</td>\n",
              "      <td>0.420913</td>\n",
              "    </tr>\n",
              "    <tr>\n",
              "      <th>Atr7</th>\n",
              "      <td>0.427989</td>\n",
              "      <td>0.417616</td>\n",
              "      <td>0.464071</td>\n",
              "      <td>0.474806</td>\n",
              "      <td>0.381378</td>\n",
              "      <td>0.424212</td>\n",
              "      <td>1.000000</td>\n",
              "      <td>0.412807</td>\n",
              "      <td>0.517522</td>\n",
              "      <td>0.498266</td>\n",
              "      <td>...</td>\n",
              "      <td>0.069850</td>\n",
              "      <td>0.254225</td>\n",
              "      <td>0.311110</td>\n",
              "      <td>0.291325</td>\n",
              "      <td>0.332370</td>\n",
              "      <td>0.349920</td>\n",
              "      <td>0.243104</td>\n",
              "      <td>0.313725</td>\n",
              "      <td>0.347493</td>\n",
              "      <td>0.544835</td>\n",
              "    </tr>\n",
              "    <tr>\n",
              "      <th>Atr8</th>\n",
              "      <td>0.802357</td>\n",
              "      <td>0.864284</td>\n",
              "      <td>0.757264</td>\n",
              "      <td>0.798347</td>\n",
              "      <td>0.877584</td>\n",
              "      <td>0.184019</td>\n",
              "      <td>0.412807</td>\n",
              "      <td>1.000000</td>\n",
              "      <td>0.915301</td>\n",
              "      <td>0.828031</td>\n",
              "      <td>...</td>\n",
              "      <td>0.433541</td>\n",
              "      <td>0.675584</td>\n",
              "      <td>0.588531</td>\n",
              "      <td>0.674776</td>\n",
              "      <td>0.729668</td>\n",
              "      <td>0.690190</td>\n",
              "      <td>0.658613</td>\n",
              "      <td>0.705071</td>\n",
              "      <td>0.807911</td>\n",
              "      <td>0.869569</td>\n",
              "    </tr>\n",
              "    <tr>\n",
              "      <th>Atr9</th>\n",
              "      <td>0.845916</td>\n",
              "      <td>0.827711</td>\n",
              "      <td>0.816653</td>\n",
              "      <td>0.829053</td>\n",
              "      <td>0.916327</td>\n",
              "      <td>0.301342</td>\n",
              "      <td>0.517522</td>\n",
              "      <td>0.915301</td>\n",
              "      <td>1.000000</td>\n",
              "      <td>0.852385</td>\n",
              "      <td>...</td>\n",
              "      <td>0.434318</td>\n",
              "      <td>0.693839</td>\n",
              "      <td>0.611726</td>\n",
              "      <td>0.711503</td>\n",
              "      <td>0.755509</td>\n",
              "      <td>0.713750</td>\n",
              "      <td>0.652376</td>\n",
              "      <td>0.699211</td>\n",
              "      <td>0.810977</td>\n",
              "      <td>0.912368</td>\n",
              "    </tr>\n",
              "    <tr>\n",
              "      <th>Atr10</th>\n",
              "      <td>0.790183</td>\n",
              "      <td>0.782286</td>\n",
              "      <td>0.753017</td>\n",
              "      <td>0.873636</td>\n",
              "      <td>0.823659</td>\n",
              "      <td>0.266076</td>\n",
              "      <td>0.498266</td>\n",
              "      <td>0.828031</td>\n",
              "      <td>0.852385</td>\n",
              "      <td>1.000000</td>\n",
              "      <td>...</td>\n",
              "      <td>0.342315</td>\n",
              "      <td>0.559998</td>\n",
              "      <td>0.550313</td>\n",
              "      <td>0.659604</td>\n",
              "      <td>0.672236</td>\n",
              "      <td>0.618666</td>\n",
              "      <td>0.513842</td>\n",
              "      <td>0.592641</td>\n",
              "      <td>0.698528</td>\n",
              "      <td>0.834897</td>\n",
              "    </tr>\n",
              "    <tr>\n",
              "      <th>Atr11</th>\n",
              "      <td>0.892253</td>\n",
              "      <td>0.823380</td>\n",
              "      <td>0.805915</td>\n",
              "      <td>0.808533</td>\n",
              "      <td>0.936955</td>\n",
              "      <td>0.340135</td>\n",
              "      <td>0.432479</td>\n",
              "      <td>0.889795</td>\n",
              "      <td>0.911557</td>\n",
              "      <td>0.855596</td>\n",
              "      <td>...</td>\n",
              "      <td>0.411962</td>\n",
              "      <td>0.645995</td>\n",
              "      <td>0.616833</td>\n",
              "      <td>0.716001</td>\n",
              "      <td>0.766418</td>\n",
              "      <td>0.696282</td>\n",
              "      <td>0.631223</td>\n",
              "      <td>0.703364</td>\n",
              "      <td>0.819972</td>\n",
              "      <td>0.918386</td>\n",
              "    </tr>\n",
              "    <tr>\n",
              "      <th>Atr12</th>\n",
              "      <td>0.794307</td>\n",
              "      <td>0.862835</td>\n",
              "      <td>0.780258</td>\n",
              "      <td>0.793992</td>\n",
              "      <td>0.846513</td>\n",
              "      <td>0.209801</td>\n",
              "      <td>0.511761</td>\n",
              "      <td>0.890338</td>\n",
              "      <td>0.869088</td>\n",
              "      <td>0.847474</td>\n",
              "      <td>...</td>\n",
              "      <td>0.374833</td>\n",
              "      <td>0.632118</td>\n",
              "      <td>0.587084</td>\n",
              "      <td>0.662506</td>\n",
              "      <td>0.700609</td>\n",
              "      <td>0.633361</td>\n",
              "      <td>0.541752</td>\n",
              "      <td>0.613401</td>\n",
              "      <td>0.707153</td>\n",
              "      <td>0.868983</td>\n",
              "    </tr>\n",
              "    <tr>\n",
              "      <th>Atr13</th>\n",
              "      <td>0.842996</td>\n",
              "      <td>0.791073</td>\n",
              "      <td>0.758969</td>\n",
              "      <td>0.751623</td>\n",
              "      <td>0.915033</td>\n",
              "      <td>0.305109</td>\n",
              "      <td>0.373361</td>\n",
              "      <td>0.840350</td>\n",
              "      <td>0.873048</td>\n",
              "      <td>0.819715</td>\n",
              "      <td>...</td>\n",
              "      <td>0.441968</td>\n",
              "      <td>0.654707</td>\n",
              "      <td>0.607921</td>\n",
              "      <td>0.666462</td>\n",
              "      <td>0.746365</td>\n",
              "      <td>0.677543</td>\n",
              "      <td>0.613943</td>\n",
              "      <td>0.682513</td>\n",
              "      <td>0.761607</td>\n",
              "      <td>0.844743</td>\n",
              "    </tr>\n",
              "    <tr>\n",
              "      <th>Atr14</th>\n",
              "      <td>0.817099</td>\n",
              "      <td>0.875800</td>\n",
              "      <td>0.750602</td>\n",
              "      <td>0.757000</td>\n",
              "      <td>0.845576</td>\n",
              "      <td>0.224459</td>\n",
              "      <td>0.491021</td>\n",
              "      <td>0.888822</td>\n",
              "      <td>0.868122</td>\n",
              "      <td>0.797964</td>\n",
              "      <td>...</td>\n",
              "      <td>0.417249</td>\n",
              "      <td>0.622207</td>\n",
              "      <td>0.613143</td>\n",
              "      <td>0.637968</td>\n",
              "      <td>0.687542</td>\n",
              "      <td>0.649200</td>\n",
              "      <td>0.583448</td>\n",
              "      <td>0.642306</td>\n",
              "      <td>0.764686</td>\n",
              "      <td>0.864316</td>\n",
              "    </tr>\n",
              "    <tr>\n",
              "      <th>Atr15</th>\n",
              "      <td>0.848754</td>\n",
              "      <td>0.801316</td>\n",
              "      <td>0.806909</td>\n",
              "      <td>0.794184</td>\n",
              "      <td>0.879461</td>\n",
              "      <td>0.323787</td>\n",
              "      <td>0.494110</td>\n",
              "      <td>0.873804</td>\n",
              "      <td>0.949041</td>\n",
              "      <td>0.853898</td>\n",
              "      <td>...</td>\n",
              "      <td>0.419023</td>\n",
              "      <td>0.652757</td>\n",
              "      <td>0.570107</td>\n",
              "      <td>0.672676</td>\n",
              "      <td>0.713697</td>\n",
              "      <td>0.663087</td>\n",
              "      <td>0.579265</td>\n",
              "      <td>0.632804</td>\n",
              "      <td>0.757981</td>\n",
              "      <td>0.901220</td>\n",
              "    </tr>\n",
              "    <tr>\n",
              "      <th>Atr16</th>\n",
              "      <td>0.831822</td>\n",
              "      <td>0.806497</td>\n",
              "      <td>0.775528</td>\n",
              "      <td>0.878416</td>\n",
              "      <td>0.853561</td>\n",
              "      <td>0.311056</td>\n",
              "      <td>0.573290</td>\n",
              "      <td>0.865680</td>\n",
              "      <td>0.893377</td>\n",
              "      <td>0.922320</td>\n",
              "      <td>...</td>\n",
              "      <td>0.404929</td>\n",
              "      <td>0.619932</td>\n",
              "      <td>0.560172</td>\n",
              "      <td>0.658464</td>\n",
              "      <td>0.711698</td>\n",
              "      <td>0.659871</td>\n",
              "      <td>0.583625</td>\n",
              "      <td>0.623016</td>\n",
              "      <td>0.750224</td>\n",
              "      <td>0.886260</td>\n",
              "    </tr>\n",
              "    <tr>\n",
              "      <th>Atr17</th>\n",
              "      <td>0.895970</td>\n",
              "      <td>0.822317</td>\n",
              "      <td>0.808161</td>\n",
              "      <td>0.809968</td>\n",
              "      <td>0.947429</td>\n",
              "      <td>0.377330</td>\n",
              "      <td>0.461450</td>\n",
              "      <td>0.881005</td>\n",
              "      <td>0.922307</td>\n",
              "      <td>0.843101</td>\n",
              "      <td>...</td>\n",
              "      <td>0.463868</td>\n",
              "      <td>0.692801</td>\n",
              "      <td>0.611383</td>\n",
              "      <td>0.731158</td>\n",
              "      <td>0.754691</td>\n",
              "      <td>0.698285</td>\n",
              "      <td>0.626845</td>\n",
              "      <td>0.694300</td>\n",
              "      <td>0.812494</td>\n",
              "      <td>0.929346</td>\n",
              "    </tr>\n",
              "    <tr>\n",
              "      <th>Atr18</th>\n",
              "      <td>0.853739</td>\n",
              "      <td>0.883856</td>\n",
              "      <td>0.797395</td>\n",
              "      <td>0.835296</td>\n",
              "      <td>0.894474</td>\n",
              "      <td>0.251856</td>\n",
              "      <td>0.544550</td>\n",
              "      <td>0.941084</td>\n",
              "      <td>0.925543</td>\n",
              "      <td>0.867250</td>\n",
              "      <td>...</td>\n",
              "      <td>0.422372</td>\n",
              "      <td>0.645743</td>\n",
              "      <td>0.577324</td>\n",
              "      <td>0.703300</td>\n",
              "      <td>0.726645</td>\n",
              "      <td>0.671822</td>\n",
              "      <td>0.620433</td>\n",
              "      <td>0.666990</td>\n",
              "      <td>0.781632</td>\n",
              "      <td>0.923208</td>\n",
              "    </tr>\n",
              "    <tr>\n",
              "      <th>Atr19</th>\n",
              "      <td>0.900446</td>\n",
              "      <td>0.829422</td>\n",
              "      <td>0.798999</td>\n",
              "      <td>0.832750</td>\n",
              "      <td>0.943349</td>\n",
              "      <td>0.365227</td>\n",
              "      <td>0.469995</td>\n",
              "      <td>0.873546</td>\n",
              "      <td>0.916472</td>\n",
              "      <td>0.837476</td>\n",
              "      <td>...</td>\n",
              "      <td>0.459280</td>\n",
              "      <td>0.687382</td>\n",
              "      <td>0.634737</td>\n",
              "      <td>0.740252</td>\n",
              "      <td>0.752400</td>\n",
              "      <td>0.689729</td>\n",
              "      <td>0.646107</td>\n",
              "      <td>0.691421</td>\n",
              "      <td>0.814552</td>\n",
              "      <td>0.928627</td>\n",
              "    </tr>\n",
              "    <tr>\n",
              "      <th>Atr20</th>\n",
              "      <td>0.840966</td>\n",
              "      <td>0.884176</td>\n",
              "      <td>0.807892</td>\n",
              "      <td>0.815896</td>\n",
              "      <td>0.892909</td>\n",
              "      <td>0.230486</td>\n",
              "      <td>0.544207</td>\n",
              "      <td>0.922465</td>\n",
              "      <td>0.902254</td>\n",
              "      <td>0.846435</td>\n",
              "      <td>...</td>\n",
              "      <td>0.427054</td>\n",
              "      <td>0.666745</td>\n",
              "      <td>0.623265</td>\n",
              "      <td>0.718281</td>\n",
              "      <td>0.746519</td>\n",
              "      <td>0.700391</td>\n",
              "      <td>0.623030</td>\n",
              "      <td>0.688278</td>\n",
              "      <td>0.801546</td>\n",
              "      <td>0.907008</td>\n",
              "    </tr>\n",
              "    <tr>\n",
              "      <th>Atr21</th>\n",
              "      <td>0.815708</td>\n",
              "      <td>0.790468</td>\n",
              "      <td>0.796069</td>\n",
              "      <td>0.775132</td>\n",
              "      <td>0.871994</td>\n",
              "      <td>0.273564</td>\n",
              "      <td>0.409827</td>\n",
              "      <td>0.861939</td>\n",
              "      <td>0.909428</td>\n",
              "      <td>0.793875</td>\n",
              "      <td>...</td>\n",
              "      <td>0.506472</td>\n",
              "      <td>0.714223</td>\n",
              "      <td>0.609352</td>\n",
              "      <td>0.735288</td>\n",
              "      <td>0.753011</td>\n",
              "      <td>0.706653</td>\n",
              "      <td>0.642550</td>\n",
              "      <td>0.711991</td>\n",
              "      <td>0.831327</td>\n",
              "      <td>0.864519</td>\n",
              "    </tr>\n",
              "    <tr>\n",
              "      <th>Atr22</th>\n",
              "      <td>0.785280</td>\n",
              "      <td>0.795406</td>\n",
              "      <td>0.727933</td>\n",
              "      <td>0.839534</td>\n",
              "      <td>0.840265</td>\n",
              "      <td>0.220010</td>\n",
              "      <td>0.378915</td>\n",
              "      <td>0.857010</td>\n",
              "      <td>0.849978</td>\n",
              "      <td>0.862670</td>\n",
              "      <td>...</td>\n",
              "      <td>0.503282</td>\n",
              "      <td>0.689916</td>\n",
              "      <td>0.592974</td>\n",
              "      <td>0.706148</td>\n",
              "      <td>0.736448</td>\n",
              "      <td>0.688090</td>\n",
              "      <td>0.626827</td>\n",
              "      <td>0.700597</td>\n",
              "      <td>0.810719</td>\n",
              "      <td>0.825938</td>\n",
              "    </tr>\n",
              "    <tr>\n",
              "      <th>Atr23</th>\n",
              "      <td>0.822534</td>\n",
              "      <td>0.773018</td>\n",
              "      <td>0.706585</td>\n",
              "      <td>0.744783</td>\n",
              "      <td>0.888584</td>\n",
              "      <td>0.246478</td>\n",
              "      <td>0.254912</td>\n",
              "      <td>0.845731</td>\n",
              "      <td>0.850241</td>\n",
              "      <td>0.750494</td>\n",
              "      <td>...</td>\n",
              "      <td>0.597487</td>\n",
              "      <td>0.768102</td>\n",
              "      <td>0.623255</td>\n",
              "      <td>0.731493</td>\n",
              "      <td>0.754818</td>\n",
              "      <td>0.695089</td>\n",
              "      <td>0.660679</td>\n",
              "      <td>0.721908</td>\n",
              "      <td>0.828007</td>\n",
              "      <td>0.837504</td>\n",
              "    </tr>\n",
              "    <tr>\n",
              "      <th>Atr24</th>\n",
              "      <td>0.813233</td>\n",
              "      <td>0.868240</td>\n",
              "      <td>0.740476</td>\n",
              "      <td>0.776640</td>\n",
              "      <td>0.833608</td>\n",
              "      <td>0.191458</td>\n",
              "      <td>0.446469</td>\n",
              "      <td>0.896841</td>\n",
              "      <td>0.851000</td>\n",
              "      <td>0.796453</td>\n",
              "      <td>...</td>\n",
              "      <td>0.484264</td>\n",
              "      <td>0.692690</td>\n",
              "      <td>0.593157</td>\n",
              "      <td>0.699272</td>\n",
              "      <td>0.710019</td>\n",
              "      <td>0.660250</td>\n",
              "      <td>0.617920</td>\n",
              "      <td>0.689712</td>\n",
              "      <td>0.771216</td>\n",
              "      <td>0.839392</td>\n",
              "    </tr>\n",
              "    <tr>\n",
              "      <th>Atr25</th>\n",
              "      <td>0.822084</td>\n",
              "      <td>0.769244</td>\n",
              "      <td>0.724506</td>\n",
              "      <td>0.736228</td>\n",
              "      <td>0.888740</td>\n",
              "      <td>0.291159</td>\n",
              "      <td>0.288867</td>\n",
              "      <td>0.809110</td>\n",
              "      <td>0.838754</td>\n",
              "      <td>0.792520</td>\n",
              "      <td>...</td>\n",
              "      <td>0.535168</td>\n",
              "      <td>0.670306</td>\n",
              "      <td>0.593997</td>\n",
              "      <td>0.739600</td>\n",
              "      <td>0.768037</td>\n",
              "      <td>0.672088</td>\n",
              "      <td>0.593523</td>\n",
              "      <td>0.663172</td>\n",
              "      <td>0.769315</td>\n",
              "      <td>0.857052</td>\n",
              "    </tr>\n",
              "    <tr>\n",
              "      <th>Atr26</th>\n",
              "      <td>0.803507</td>\n",
              "      <td>0.861421</td>\n",
              "      <td>0.728653</td>\n",
              "      <td>0.762765</td>\n",
              "      <td>0.836194</td>\n",
              "      <td>0.200634</td>\n",
              "      <td>0.443149</td>\n",
              "      <td>0.883414</td>\n",
              "      <td>0.850286</td>\n",
              "      <td>0.802167</td>\n",
              "      <td>...</td>\n",
              "      <td>0.466021</td>\n",
              "      <td>0.659920</td>\n",
              "      <td>0.584190</td>\n",
              "      <td>0.707706</td>\n",
              "      <td>0.708283</td>\n",
              "      <td>0.649172</td>\n",
              "      <td>0.566313</td>\n",
              "      <td>0.628569</td>\n",
              "      <td>0.747339</td>\n",
              "      <td>0.872868</td>\n",
              "    </tr>\n",
              "    <tr>\n",
              "      <th>Atr27</th>\n",
              "      <td>0.829037</td>\n",
              "      <td>0.817364</td>\n",
              "      <td>0.797595</td>\n",
              "      <td>0.767206</td>\n",
              "      <td>0.883768</td>\n",
              "      <td>0.283895</td>\n",
              "      <td>0.444643</td>\n",
              "      <td>0.848766</td>\n",
              "      <td>0.903959</td>\n",
              "      <td>0.796466</td>\n",
              "      <td>...</td>\n",
              "      <td>0.522207</td>\n",
              "      <td>0.702745</td>\n",
              "      <td>0.616280</td>\n",
              "      <td>0.741492</td>\n",
              "      <td>0.756652</td>\n",
              "      <td>0.697969</td>\n",
              "      <td>0.629278</td>\n",
              "      <td>0.675915</td>\n",
              "      <td>0.791929</td>\n",
              "      <td>0.869788</td>\n",
              "    </tr>\n",
              "    <tr>\n",
              "      <th>Atr28</th>\n",
              "      <td>0.762102</td>\n",
              "      <td>0.776943</td>\n",
              "      <td>0.689914</td>\n",
              "      <td>0.827847</td>\n",
              "      <td>0.809789</td>\n",
              "      <td>0.254858</td>\n",
              "      <td>0.351262</td>\n",
              "      <td>0.822361</td>\n",
              "      <td>0.818032</td>\n",
              "      <td>0.848007</td>\n",
              "      <td>...</td>\n",
              "      <td>0.485621</td>\n",
              "      <td>0.645103</td>\n",
              "      <td>0.579382</td>\n",
              "      <td>0.685723</td>\n",
              "      <td>0.701984</td>\n",
              "      <td>0.627694</td>\n",
              "      <td>0.573582</td>\n",
              "      <td>0.659895</td>\n",
              "      <td>0.767266</td>\n",
              "      <td>0.846606</td>\n",
              "    </tr>\n",
              "    <tr>\n",
              "      <th>Atr29</th>\n",
              "      <td>0.858139</td>\n",
              "      <td>0.789827</td>\n",
              "      <td>0.755491</td>\n",
              "      <td>0.781792</td>\n",
              "      <td>0.925601</td>\n",
              "      <td>0.309302</td>\n",
              "      <td>0.349379</td>\n",
              "      <td>0.860194</td>\n",
              "      <td>0.878845</td>\n",
              "      <td>0.790977</td>\n",
              "      <td>...</td>\n",
              "      <td>0.537866</td>\n",
              "      <td>0.738302</td>\n",
              "      <td>0.629746</td>\n",
              "      <td>0.761812</td>\n",
              "      <td>0.766783</td>\n",
              "      <td>0.704671</td>\n",
              "      <td>0.658174</td>\n",
              "      <td>0.722518</td>\n",
              "      <td>0.846811</td>\n",
              "      <td>0.892954</td>\n",
              "    </tr>\n",
              "    <tr>\n",
              "      <th>Atr30</th>\n",
              "      <td>0.792257</td>\n",
              "      <td>0.844007</td>\n",
              "      <td>0.752391</td>\n",
              "      <td>0.772562</td>\n",
              "      <td>0.837501</td>\n",
              "      <td>0.266464</td>\n",
              "      <td>0.448569</td>\n",
              "      <td>0.902820</td>\n",
              "      <td>0.854455</td>\n",
              "      <td>0.801220</td>\n",
              "      <td>...</td>\n",
              "      <td>0.428798</td>\n",
              "      <td>0.635199</td>\n",
              "      <td>0.597375</td>\n",
              "      <td>0.699638</td>\n",
              "      <td>0.719207</td>\n",
              "      <td>0.658454</td>\n",
              "      <td>0.619378</td>\n",
              "      <td>0.686362</td>\n",
              "      <td>0.792509</td>\n",
              "      <td>0.874531</td>\n",
              "    </tr>\n",
              "    <tr>\n",
              "      <th>Atr31</th>\n",
              "      <td>0.699223</td>\n",
              "      <td>0.661210</td>\n",
              "      <td>0.652188</td>\n",
              "      <td>0.661251</td>\n",
              "      <td>0.785038</td>\n",
              "      <td>0.247634</td>\n",
              "      <td>0.334308</td>\n",
              "      <td>0.716731</td>\n",
              "      <td>0.745699</td>\n",
              "      <td>0.704880</td>\n",
              "      <td>...</td>\n",
              "      <td>0.443638</td>\n",
              "      <td>0.634671</td>\n",
              "      <td>0.601569</td>\n",
              "      <td>0.655936</td>\n",
              "      <td>0.687783</td>\n",
              "      <td>0.687045</td>\n",
              "      <td>0.611062</td>\n",
              "      <td>0.679921</td>\n",
              "      <td>0.759989</td>\n",
              "      <td>0.792607</td>\n",
              "    </tr>\n",
              "    <tr>\n",
              "      <th>Atr32</th>\n",
              "      <td>0.739679</td>\n",
              "      <td>0.735763</td>\n",
              "      <td>0.747669</td>\n",
              "      <td>0.746677</td>\n",
              "      <td>0.832032</td>\n",
              "      <td>0.316605</td>\n",
              "      <td>0.442306</td>\n",
              "      <td>0.762425</td>\n",
              "      <td>0.803397</td>\n",
              "      <td>0.759551</td>\n",
              "      <td>...</td>\n",
              "      <td>0.381200</td>\n",
              "      <td>0.623136</td>\n",
              "      <td>0.690888</td>\n",
              "      <td>0.673165</td>\n",
              "      <td>0.691838</td>\n",
              "      <td>0.741075</td>\n",
              "      <td>0.572254</td>\n",
              "      <td>0.730081</td>\n",
              "      <td>0.766907</td>\n",
              "      <td>0.829056</td>\n",
              "    </tr>\n",
              "    <tr>\n",
              "      <th>Atr33</th>\n",
              "      <td>0.799735</td>\n",
              "      <td>0.757286</td>\n",
              "      <td>0.726481</td>\n",
              "      <td>0.764381</td>\n",
              "      <td>0.879037</td>\n",
              "      <td>0.292037</td>\n",
              "      <td>0.395764</td>\n",
              "      <td>0.818682</td>\n",
              "      <td>0.844909</td>\n",
              "      <td>0.755521</td>\n",
              "      <td>...</td>\n",
              "      <td>0.476596</td>\n",
              "      <td>0.687061</td>\n",
              "      <td>0.642480</td>\n",
              "      <td>0.766631</td>\n",
              "      <td>0.776502</td>\n",
              "      <td>0.785674</td>\n",
              "      <td>0.709548</td>\n",
              "      <td>0.768211</td>\n",
              "      <td>0.901159</td>\n",
              "      <td>0.861328</td>\n",
              "    </tr>\n",
              "    <tr>\n",
              "      <th>Atr34</th>\n",
              "      <td>0.749774</td>\n",
              "      <td>0.714360</td>\n",
              "      <td>0.702500</td>\n",
              "      <td>0.729022</td>\n",
              "      <td>0.827560</td>\n",
              "      <td>0.279789</td>\n",
              "      <td>0.328700</td>\n",
              "      <td>0.780778</td>\n",
              "      <td>0.810135</td>\n",
              "      <td>0.737276</td>\n",
              "      <td>...</td>\n",
              "      <td>0.479888</td>\n",
              "      <td>0.625707</td>\n",
              "      <td>0.649640</td>\n",
              "      <td>0.683027</td>\n",
              "      <td>0.713617</td>\n",
              "      <td>0.748990</td>\n",
              "      <td>0.668027</td>\n",
              "      <td>0.757072</td>\n",
              "      <td>0.836086</td>\n",
              "      <td>0.835167</td>\n",
              "    </tr>\n",
              "    <tr>\n",
              "      <th>Atr35</th>\n",
              "      <td>0.796413</td>\n",
              "      <td>0.753566</td>\n",
              "      <td>0.730290</td>\n",
              "      <td>0.770813</td>\n",
              "      <td>0.878289</td>\n",
              "      <td>0.276539</td>\n",
              "      <td>0.349076</td>\n",
              "      <td>0.827441</td>\n",
              "      <td>0.854943</td>\n",
              "      <td>0.755314</td>\n",
              "      <td>...</td>\n",
              "      <td>0.550157</td>\n",
              "      <td>0.726969</td>\n",
              "      <td>0.628374</td>\n",
              "      <td>0.750962</td>\n",
              "      <td>0.781901</td>\n",
              "      <td>0.707727</td>\n",
              "      <td>0.706958</td>\n",
              "      <td>0.775465</td>\n",
              "      <td>0.891120</td>\n",
              "      <td>0.862624</td>\n",
              "    </tr>\n",
              "    <tr>\n",
              "      <th>Atr36</th>\n",
              "      <td>0.812867</td>\n",
              "      <td>0.781295</td>\n",
              "      <td>0.744390</td>\n",
              "      <td>0.794636</td>\n",
              "      <td>0.887498</td>\n",
              "      <td>0.287708</td>\n",
              "      <td>0.370158</td>\n",
              "      <td>0.845435</td>\n",
              "      <td>0.871648</td>\n",
              "      <td>0.781450</td>\n",
              "      <td>...</td>\n",
              "      <td>0.568555</td>\n",
              "      <td>0.715604</td>\n",
              "      <td>0.675947</td>\n",
              "      <td>0.741410</td>\n",
              "      <td>0.772204</td>\n",
              "      <td>0.743875</td>\n",
              "      <td>0.694532</td>\n",
              "      <td>0.787044</td>\n",
              "      <td>0.877572</td>\n",
              "      <td>0.886497</td>\n",
              "    </tr>\n",
              "    <tr>\n",
              "      <th>Atr37</th>\n",
              "      <td>0.786890</td>\n",
              "      <td>0.747088</td>\n",
              "      <td>0.736984</td>\n",
              "      <td>0.760451</td>\n",
              "      <td>0.859581</td>\n",
              "      <td>0.281458</td>\n",
              "      <td>0.431979</td>\n",
              "      <td>0.800964</td>\n",
              "      <td>0.839067</td>\n",
              "      <td>0.779488</td>\n",
              "      <td>...</td>\n",
              "      <td>0.421546</td>\n",
              "      <td>0.614817</td>\n",
              "      <td>0.639337</td>\n",
              "      <td>0.719160</td>\n",
              "      <td>0.754757</td>\n",
              "      <td>0.743814</td>\n",
              "      <td>0.654428</td>\n",
              "      <td>0.736013</td>\n",
              "      <td>0.808107</td>\n",
              "      <td>0.863597</td>\n",
              "    </tr>\n",
              "    <tr>\n",
              "      <th>Atr38</th>\n",
              "      <td>0.804129</td>\n",
              "      <td>0.751705</td>\n",
              "      <td>0.740642</td>\n",
              "      <td>0.790350</td>\n",
              "      <td>0.852601</td>\n",
              "      <td>0.297791</td>\n",
              "      <td>0.401769</td>\n",
              "      <td>0.815830</td>\n",
              "      <td>0.849469</td>\n",
              "      <td>0.796215</td>\n",
              "      <td>...</td>\n",
              "      <td>0.488014</td>\n",
              "      <td>0.626556</td>\n",
              "      <td>0.635144</td>\n",
              "      <td>0.713444</td>\n",
              "      <td>0.738703</td>\n",
              "      <td>0.718405</td>\n",
              "      <td>0.620069</td>\n",
              "      <td>0.713120</td>\n",
              "      <td>0.835082</td>\n",
              "      <td>0.883311</td>\n",
              "    </tr>\n",
              "    <tr>\n",
              "      <th>Atr39</th>\n",
              "      <td>0.817035</td>\n",
              "      <td>0.787768</td>\n",
              "      <td>0.759820</td>\n",
              "      <td>0.763502</td>\n",
              "      <td>0.866293</td>\n",
              "      <td>0.296121</td>\n",
              "      <td>0.477063</td>\n",
              "      <td>0.797134</td>\n",
              "      <td>0.850638</td>\n",
              "      <td>0.782768</td>\n",
              "      <td>...</td>\n",
              "      <td>0.423210</td>\n",
              "      <td>0.652620</td>\n",
              "      <td>0.641082</td>\n",
              "      <td>0.738208</td>\n",
              "      <td>0.763041</td>\n",
              "      <td>0.690443</td>\n",
              "      <td>0.650786</td>\n",
              "      <td>0.688828</td>\n",
              "      <td>0.812679</td>\n",
              "      <td>0.896180</td>\n",
              "    </tr>\n",
              "    <tr>\n",
              "      <th>Atr40</th>\n",
              "      <td>0.838355</td>\n",
              "      <td>0.788200</td>\n",
              "      <td>0.781657</td>\n",
              "      <td>0.798520</td>\n",
              "      <td>0.871809</td>\n",
              "      <td>0.351433</td>\n",
              "      <td>0.501758</td>\n",
              "      <td>0.822302</td>\n",
              "      <td>0.875661</td>\n",
              "      <td>0.819700</td>\n",
              "      <td>...</td>\n",
              "      <td>0.485531</td>\n",
              "      <td>0.626907</td>\n",
              "      <td>0.655541</td>\n",
              "      <td>0.717965</td>\n",
              "      <td>0.756052</td>\n",
              "      <td>0.712333</td>\n",
              "      <td>0.630086</td>\n",
              "      <td>0.716196</td>\n",
              "      <td>0.796685</td>\n",
              "      <td>0.938684</td>\n",
              "    </tr>\n",
              "    <tr>\n",
              "      <th>Atr41</th>\n",
              "      <td>0.804182</td>\n",
              "      <td>0.780757</td>\n",
              "      <td>0.739967</td>\n",
              "      <td>0.768706</td>\n",
              "      <td>0.864434</td>\n",
              "      <td>0.329765</td>\n",
              "      <td>0.445483</td>\n",
              "      <td>0.821081</td>\n",
              "      <td>0.852477</td>\n",
              "      <td>0.777444</td>\n",
              "      <td>...</td>\n",
              "      <td>0.449828</td>\n",
              "      <td>0.689292</td>\n",
              "      <td>0.624703</td>\n",
              "      <td>0.712495</td>\n",
              "      <td>0.729924</td>\n",
              "      <td>0.666691</td>\n",
              "      <td>0.636622</td>\n",
              "      <td>0.717272</td>\n",
              "      <td>0.849093</td>\n",
              "      <td>0.894356</td>\n",
              "    </tr>\n",
              "    <tr>\n",
              "      <th>Atr42</th>\n",
              "      <td>0.642307</td>\n",
              "      <td>0.648539</td>\n",
              "      <td>0.569293</td>\n",
              "      <td>0.639671</td>\n",
              "      <td>0.737922</td>\n",
              "      <td>0.227993</td>\n",
              "      <td>0.333211</td>\n",
              "      <td>0.699571</td>\n",
              "      <td>0.737409</td>\n",
              "      <td>0.670209</td>\n",
              "      <td>...</td>\n",
              "      <td>0.548272</td>\n",
              "      <td>0.717083</td>\n",
              "      <td>0.618045</td>\n",
              "      <td>0.618445</td>\n",
              "      <td>0.616437</td>\n",
              "      <td>0.614892</td>\n",
              "      <td>0.580543</td>\n",
              "      <td>0.562994</td>\n",
              "      <td>0.673308</td>\n",
              "      <td>0.739629</td>\n",
              "    </tr>\n",
              "    <tr>\n",
              "      <th>Atr43</th>\n",
              "      <td>0.482223</td>\n",
              "      <td>0.503894</td>\n",
              "      <td>0.385152</td>\n",
              "      <td>0.452479</td>\n",
              "      <td>0.613142</td>\n",
              "      <td>0.171599</td>\n",
              "      <td>0.149930</td>\n",
              "      <td>0.555187</td>\n",
              "      <td>0.585679</td>\n",
              "      <td>0.459405</td>\n",
              "      <td>...</td>\n",
              "      <td>0.561868</td>\n",
              "      <td>0.695560</td>\n",
              "      <td>0.409197</td>\n",
              "      <td>0.546105</td>\n",
              "      <td>0.523015</td>\n",
              "      <td>0.459008</td>\n",
              "      <td>0.513790</td>\n",
              "      <td>0.387796</td>\n",
              "      <td>0.543614</td>\n",
              "      <td>0.566242</td>\n",
              "    </tr>\n",
              "    <tr>\n",
              "      <th>Atr44</th>\n",
              "      <td>0.752972</td>\n",
              "      <td>0.699765</td>\n",
              "      <td>0.661830</td>\n",
              "      <td>0.707212</td>\n",
              "      <td>0.799453</td>\n",
              "      <td>0.339918</td>\n",
              "      <td>0.425874</td>\n",
              "      <td>0.760016</td>\n",
              "      <td>0.808607</td>\n",
              "      <td>0.723545</td>\n",
              "      <td>...</td>\n",
              "      <td>0.572467</td>\n",
              "      <td>0.690103</td>\n",
              "      <td>0.594348</td>\n",
              "      <td>0.724733</td>\n",
              "      <td>0.708330</td>\n",
              "      <td>0.676761</td>\n",
              "      <td>0.585740</td>\n",
              "      <td>0.626303</td>\n",
              "      <td>0.741815</td>\n",
              "      <td>0.847336</td>\n",
              "    </tr>\n",
              "    <tr>\n",
              "      <th>Atr45</th>\n",
              "      <td>0.510160</td>\n",
              "      <td>0.489062</td>\n",
              "      <td>0.427409</td>\n",
              "      <td>0.446798</td>\n",
              "      <td>0.591656</td>\n",
              "      <td>0.094820</td>\n",
              "      <td>0.199548</td>\n",
              "      <td>0.542547</td>\n",
              "      <td>0.575326</td>\n",
              "      <td>0.435798</td>\n",
              "      <td>...</td>\n",
              "      <td>0.592041</td>\n",
              "      <td>0.720692</td>\n",
              "      <td>0.413413</td>\n",
              "      <td>0.530254</td>\n",
              "      <td>0.540485</td>\n",
              "      <td>0.487817</td>\n",
              "      <td>0.495944</td>\n",
              "      <td>0.422336</td>\n",
              "      <td>0.586874</td>\n",
              "      <td>0.546450</td>\n",
              "    </tr>\n",
              "    <tr>\n",
              "      <th>Atr46</th>\n",
              "      <td>0.400296</td>\n",
              "      <td>0.389519</td>\n",
              "      <td>0.308149</td>\n",
              "      <td>0.340240</td>\n",
              "      <td>0.470758</td>\n",
              "      <td>0.127759</td>\n",
              "      <td>0.069850</td>\n",
              "      <td>0.433541</td>\n",
              "      <td>0.434318</td>\n",
              "      <td>0.342315</td>\n",
              "      <td>...</td>\n",
              "      <td>1.000000</td>\n",
              "      <td>0.664794</td>\n",
              "      <td>0.448773</td>\n",
              "      <td>0.530939</td>\n",
              "      <td>0.523832</td>\n",
              "      <td>0.490177</td>\n",
              "      <td>0.550210</td>\n",
              "      <td>0.505164</td>\n",
              "      <td>0.483424</td>\n",
              "      <td>0.443465</td>\n",
              "    </tr>\n",
              "    <tr>\n",
              "      <th>Atr47</th>\n",
              "      <td>0.582693</td>\n",
              "      <td>0.616884</td>\n",
              "      <td>0.544863</td>\n",
              "      <td>0.552301</td>\n",
              "      <td>0.719899</td>\n",
              "      <td>0.212979</td>\n",
              "      <td>0.254225</td>\n",
              "      <td>0.675584</td>\n",
              "      <td>0.693839</td>\n",
              "      <td>0.559998</td>\n",
              "      <td>...</td>\n",
              "      <td>0.664794</td>\n",
              "      <td>1.000000</td>\n",
              "      <td>0.602951</td>\n",
              "      <td>0.649803</td>\n",
              "      <td>0.658809</td>\n",
              "      <td>0.600896</td>\n",
              "      <td>0.571223</td>\n",
              "      <td>0.623877</td>\n",
              "      <td>0.689735</td>\n",
              "      <td>0.656409</td>\n",
              "    </tr>\n",
              "    <tr>\n",
              "      <th>Atr48</th>\n",
              "      <td>0.633564</td>\n",
              "      <td>0.643762</td>\n",
              "      <td>0.638256</td>\n",
              "      <td>0.630205</td>\n",
              "      <td>0.659220</td>\n",
              "      <td>0.200673</td>\n",
              "      <td>0.311110</td>\n",
              "      <td>0.588531</td>\n",
              "      <td>0.611726</td>\n",
              "      <td>0.550313</td>\n",
              "      <td>...</td>\n",
              "      <td>0.448773</td>\n",
              "      <td>0.602951</td>\n",
              "      <td>1.000000</td>\n",
              "      <td>0.594826</td>\n",
              "      <td>0.640171</td>\n",
              "      <td>0.697531</td>\n",
              "      <td>0.513645</td>\n",
              "      <td>0.637911</td>\n",
              "      <td>0.588135</td>\n",
              "      <td>0.619830</td>\n",
              "    </tr>\n",
              "    <tr>\n",
              "      <th>Atr49</th>\n",
              "      <td>0.674843</td>\n",
              "      <td>0.659841</td>\n",
              "      <td>0.647961</td>\n",
              "      <td>0.699069</td>\n",
              "      <td>0.762257</td>\n",
              "      <td>0.201091</td>\n",
              "      <td>0.291325</td>\n",
              "      <td>0.674776</td>\n",
              "      <td>0.711503</td>\n",
              "      <td>0.659604</td>\n",
              "      <td>...</td>\n",
              "      <td>0.530939</td>\n",
              "      <td>0.649803</td>\n",
              "      <td>0.594826</td>\n",
              "      <td>1.000000</td>\n",
              "      <td>0.863896</td>\n",
              "      <td>0.730045</td>\n",
              "      <td>0.560331</td>\n",
              "      <td>0.541626</td>\n",
              "      <td>0.685991</td>\n",
              "      <td>0.740704</td>\n",
              "    </tr>\n",
              "    <tr>\n",
              "      <th>Atr50</th>\n",
              "      <td>0.725443</td>\n",
              "      <td>0.680538</td>\n",
              "      <td>0.663995</td>\n",
              "      <td>0.685263</td>\n",
              "      <td>0.795960</td>\n",
              "      <td>0.221100</td>\n",
              "      <td>0.332370</td>\n",
              "      <td>0.729668</td>\n",
              "      <td>0.755509</td>\n",
              "      <td>0.672236</td>\n",
              "      <td>...</td>\n",
              "      <td>0.523832</td>\n",
              "      <td>0.658809</td>\n",
              "      <td>0.640171</td>\n",
              "      <td>0.863896</td>\n",
              "      <td>1.000000</td>\n",
              "      <td>0.852839</td>\n",
              "      <td>0.622362</td>\n",
              "      <td>0.613642</td>\n",
              "      <td>0.747848</td>\n",
              "      <td>0.755248</td>\n",
              "    </tr>\n",
              "    <tr>\n",
              "      <th>Atr51</th>\n",
              "      <td>0.684143</td>\n",
              "      <td>0.636558</td>\n",
              "      <td>0.600603</td>\n",
              "      <td>0.624015</td>\n",
              "      <td>0.742664</td>\n",
              "      <td>0.179119</td>\n",
              "      <td>0.349920</td>\n",
              "      <td>0.690190</td>\n",
              "      <td>0.713750</td>\n",
              "      <td>0.618666</td>\n",
              "      <td>...</td>\n",
              "      <td>0.490177</td>\n",
              "      <td>0.600896</td>\n",
              "      <td>0.697531</td>\n",
              "      <td>0.730045</td>\n",
              "      <td>0.852839</td>\n",
              "      <td>1.000000</td>\n",
              "      <td>0.610769</td>\n",
              "      <td>0.650090</td>\n",
              "      <td>0.737811</td>\n",
              "      <td>0.692681</td>\n",
              "    </tr>\n",
              "    <tr>\n",
              "      <th>Atr52</th>\n",
              "      <td>0.575463</td>\n",
              "      <td>0.536294</td>\n",
              "      <td>0.491803</td>\n",
              "      <td>0.534264</td>\n",
              "      <td>0.663855</td>\n",
              "      <td>0.205056</td>\n",
              "      <td>0.243104</td>\n",
              "      <td>0.658613</td>\n",
              "      <td>0.652376</td>\n",
              "      <td>0.513842</td>\n",
              "      <td>...</td>\n",
              "      <td>0.550210</td>\n",
              "      <td>0.571223</td>\n",
              "      <td>0.513645</td>\n",
              "      <td>0.560331</td>\n",
              "      <td>0.622362</td>\n",
              "      <td>0.610769</td>\n",
              "      <td>1.000000</td>\n",
              "      <td>0.803221</td>\n",
              "      <td>0.771315</td>\n",
              "      <td>0.651478</td>\n",
              "    </tr>\n",
              "    <tr>\n",
              "      <th>Atr53</th>\n",
              "      <td>0.611422</td>\n",
              "      <td>0.610726</td>\n",
              "      <td>0.598749</td>\n",
              "      <td>0.588390</td>\n",
              "      <td>0.719493</td>\n",
              "      <td>0.258092</td>\n",
              "      <td>0.313725</td>\n",
              "      <td>0.705071</td>\n",
              "      <td>0.699211</td>\n",
              "      <td>0.592641</td>\n",
              "      <td>...</td>\n",
              "      <td>0.505164</td>\n",
              "      <td>0.623877</td>\n",
              "      <td>0.637911</td>\n",
              "      <td>0.541626</td>\n",
              "      <td>0.613642</td>\n",
              "      <td>0.650090</td>\n",
              "      <td>0.803221</td>\n",
              "      <td>1.000000</td>\n",
              "      <td>0.788348</td>\n",
              "      <td>0.711176</td>\n",
              "    </tr>\n",
              "    <tr>\n",
              "      <th>Atr54</th>\n",
              "      <td>0.768522</td>\n",
              "      <td>0.728897</td>\n",
              "      <td>0.673012</td>\n",
              "      <td>0.698264</td>\n",
              "      <td>0.836799</td>\n",
              "      <td>0.292428</td>\n",
              "      <td>0.347493</td>\n",
              "      <td>0.807911</td>\n",
              "      <td>0.810977</td>\n",
              "      <td>0.698528</td>\n",
              "      <td>...</td>\n",
              "      <td>0.483424</td>\n",
              "      <td>0.689735</td>\n",
              "      <td>0.588135</td>\n",
              "      <td>0.685991</td>\n",
              "      <td>0.747848</td>\n",
              "      <td>0.737811</td>\n",
              "      <td>0.771315</td>\n",
              "      <td>0.788348</td>\n",
              "      <td>1.000000</td>\n",
              "      <td>0.806765</td>\n",
              "    </tr>\n",
              "    <tr>\n",
              "      <th>Class</th>\n",
              "      <td>0.861324</td>\n",
              "      <td>0.820774</td>\n",
              "      <td>0.806709</td>\n",
              "      <td>0.819583</td>\n",
              "      <td>0.893180</td>\n",
              "      <td>0.420913</td>\n",
              "      <td>0.544835</td>\n",
              "      <td>0.869569</td>\n",
              "      <td>0.912368</td>\n",
              "      <td>0.834897</td>\n",
              "      <td>...</td>\n",
              "      <td>0.443465</td>\n",
              "      <td>0.656409</td>\n",
              "      <td>0.619830</td>\n",
              "      <td>0.740704</td>\n",
              "      <td>0.755248</td>\n",
              "      <td>0.692681</td>\n",
              "      <td>0.651478</td>\n",
              "      <td>0.711176</td>\n",
              "      <td>0.806765</td>\n",
              "      <td>1.000000</td>\n",
              "    </tr>\n",
              "  </tbody>\n",
              "</table>\n",
              "<p>55 rows × 55 columns</p>\n",
              "</div>\n",
              "      <button class=\"colab-df-convert\" onclick=\"convertToInteractive('df-5d66799d-28f5-4fdc-b67b-1e7feeda3b94')\"\n",
              "              title=\"Convert this dataframe to an interactive table.\"\n",
              "              style=\"display:none;\">\n",
              "        \n",
              "  <svg xmlns=\"http://www.w3.org/2000/svg\" height=\"24px\"viewBox=\"0 0 24 24\"\n",
              "       width=\"24px\">\n",
              "    <path d=\"M0 0h24v24H0V0z\" fill=\"none\"/>\n",
              "    <path d=\"M18.56 5.44l.94 2.06.94-2.06 2.06-.94-2.06-.94-.94-2.06-.94 2.06-2.06.94zm-11 1L8.5 8.5l.94-2.06 2.06-.94-2.06-.94L8.5 2.5l-.94 2.06-2.06.94zm10 10l.94 2.06.94-2.06 2.06-.94-2.06-.94-.94-2.06-.94 2.06-2.06.94z\"/><path d=\"M17.41 7.96l-1.37-1.37c-.4-.4-.92-.59-1.43-.59-.52 0-1.04.2-1.43.59L10.3 9.45l-7.72 7.72c-.78.78-.78 2.05 0 2.83L4 21.41c.39.39.9.59 1.41.59.51 0 1.02-.2 1.41-.59l7.78-7.78 2.81-2.81c.8-.78.8-2.07 0-2.86zM5.41 20L4 18.59l7.72-7.72 1.47 1.35L5.41 20z\"/>\n",
              "  </svg>\n",
              "      </button>\n",
              "      \n",
              "  <style>\n",
              "    .colab-df-container {\n",
              "      display:flex;\n",
              "      flex-wrap:wrap;\n",
              "      gap: 12px;\n",
              "    }\n",
              "\n",
              "    .colab-df-convert {\n",
              "      background-color: #E8F0FE;\n",
              "      border: none;\n",
              "      border-radius: 50%;\n",
              "      cursor: pointer;\n",
              "      display: none;\n",
              "      fill: #1967D2;\n",
              "      height: 32px;\n",
              "      padding: 0 0 0 0;\n",
              "      width: 32px;\n",
              "    }\n",
              "\n",
              "    .colab-df-convert:hover {\n",
              "      background-color: #E2EBFA;\n",
              "      box-shadow: 0px 1px 2px rgba(60, 64, 67, 0.3), 0px 1px 3px 1px rgba(60, 64, 67, 0.15);\n",
              "      fill: #174EA6;\n",
              "    }\n",
              "\n",
              "    [theme=dark] .colab-df-convert {\n",
              "      background-color: #3B4455;\n",
              "      fill: #D2E3FC;\n",
              "    }\n",
              "\n",
              "    [theme=dark] .colab-df-convert:hover {\n",
              "      background-color: #434B5C;\n",
              "      box-shadow: 0px 1px 3px 1px rgba(0, 0, 0, 0.15);\n",
              "      filter: drop-shadow(0px 1px 2px rgba(0, 0, 0, 0.3));\n",
              "      fill: #FFFFFF;\n",
              "    }\n",
              "  </style>\n",
              "\n",
              "      <script>\n",
              "        const buttonEl =\n",
              "          document.querySelector('#df-5d66799d-28f5-4fdc-b67b-1e7feeda3b94 button.colab-df-convert');\n",
              "        buttonEl.style.display =\n",
              "          google.colab.kernel.accessAllowed ? 'block' : 'none';\n",
              "\n",
              "        async function convertToInteractive(key) {\n",
              "          const element = document.querySelector('#df-5d66799d-28f5-4fdc-b67b-1e7feeda3b94');\n",
              "          const dataTable =\n",
              "            await google.colab.kernel.invokeFunction('convertToInteractive',\n",
              "                                                     [key], {});\n",
              "          if (!dataTable) return;\n",
              "\n",
              "          const docLinkHtml = 'Like what you see? Visit the ' +\n",
              "            '<a target=\"_blank\" href=https://colab.research.google.com/notebooks/data_table.ipynb>data table notebook</a>'\n",
              "            + ' to learn more about interactive tables.';\n",
              "          element.innerHTML = '';\n",
              "          dataTable['output_type'] = 'display_data';\n",
              "          await google.colab.output.renderOutput(dataTable, element);\n",
              "          const docLink = document.createElement('div');\n",
              "          docLink.innerHTML = docLinkHtml;\n",
              "          element.appendChild(docLink);\n",
              "        }\n",
              "      </script>\n",
              "    </div>\n",
              "  </div>\n",
              "  "
            ]
          },
          "metadata": {},
          "execution_count": 54
        },
        {
          "output_type": "stream",
          "name": "stdout",
          "text": [
            "Warning: Total number of columns (55) exceeds max_columns (20) limiting to first (20) columns.\n"
          ]
        }
      ]
    },
    {
      "cell_type": "code",
      "source": [
        "plt.figure(figsize=(10, 8))\n",
        "matrix = np.triu(divorce_data.corr())\n",
        "sns.heatmap(divorce_data.corr(), annot=False, linewidth=.8, mask=matrix, cmap=\"rocket\");\n",
        "plt.show()"
      ],
      "metadata": {
        "colab": {
          "base_uri": "https://localhost:8080/",
          "height": 501
        },
        "id": "r448nfhrGJxp",
        "outputId": "13ed237a-1b51-40e6-e856-90679b85d1b8"
      },
      "execution_count": null,
      "outputs": [
        {
          "output_type": "display_data",
          "data": {
            "text/plain": [
              "<Figure size 720x576 with 2 Axes>"
            ],
            "image/png": "[encoded data removed]"
          },
          "metadata": {
            "needs_background": "light"
          }
        }
      ]
    },
    {
      "cell_type": "code",
      "source": [
        "x = divorce_data.drop('Class',axis =1)\n",
        "y = divorce_data['Class']"
      ],
      "metadata": {
        "id": "ZUUOGoeDGc_x"
      },
      "execution_count": null,
      "outputs": []
    },
    {
      "cell_type": "code",
      "source": [
        "from sklearn.model_selection import train_test_split\n",
        "x_train, x_test, y_train, y_test = train_test_split(x, y,\n",
        "                                                    test_size=0.15,\n",
        "                                                    random_state=42)"
      ],
      "metadata": {
        "id": "lqT_B-K8Gg8d"
      },
      "execution_count": null,
      "outputs": []
    },
    {
      "cell_type": "code",
      "source": [
        "# importing module\n",
        "from sklearn.linear_model import LogisticRegression\n",
        "# creating an object of LinearRegression class\n",
        "LR = LogisticRegression()\n",
        "# fitting the training data\n",
        "LR.fit(x_train,y_train)"
      ],
      "metadata": {
        "colab": {
          "base_uri": "https://localhost:8080/"
        },
        "id": "dX-p4UqlGqTJ",
        "outputId": "964d27e6-207f-457f-a624-22ff269e62d7"
      },
      "execution_count": null,
      "outputs": [
        {
          "output_type": "execute_result",
          "data": {
            "text/plain": [
              "LogisticRegression()"
            ]
          },
          "metadata": {},
          "execution_count": 58
        }
      ]
    },
    {
      "cell_type": "code",
      "source": [
        "y_prediction = LR.predict(x_test)\n",
        "y_prediction"
      ],
      "metadata": {
        "colab": {
          "base_uri": "https://localhost:8080/"
        },
        "id": "kXmxEsYsG21T",
        "outputId": "2cd7fd7d-8acc-481f-bc32-0461385df544"
      },
      "execution_count": null,
      "outputs": [
        {
          "output_type": "execute_result",
          "data": {
            "text/plain": [
              "array([0, 1, 0, 1, 0, 0, 0, 1, 0, 1, 1, 0, 0, 1, 1, 0, 1, 0, 1, 0, 1, 1,\n",
              "       1, 1, 1, 1])"
            ]
          },
          "metadata": {},
          "execution_count": 59
        }
      ]
    },
    {
      "cell_type": "code",
      "source": [
        "print(\"Training Accuracy :\", LR.score(x_train, y_train))\n",
        "print(\"Testing Accuracy :\", LR.score(x_test, y_test))\n"
      ],
      "metadata": {
        "colab": {
          "base_uri": "https://localhost:8080/"
        },
        "id": "1dcLDcs1G5lk",
        "outputId": "57afe76d-3009-4ba1-974e-cc84a48f854b"
      },
      "execution_count": null,
      "outputs": [
        {
          "output_type": "stream",
          "name": "stdout",
          "text": [
            "Training Accuracy : 1.0\n",
            "Testing Accuracy : 1.0\n"
          ]
        }
      ]
    },
    {
      "cell_type": "code",
      "source": [
        "from sklearn.tree import DecisionTreeClassifier\n",
        "dt = DecisionTreeClassifier()\n",
        "dt.fit(x_train, y_train)"
      ],
      "metadata": {
        "colab": {
          "base_uri": "https://localhost:8080/"
        },
        "id": "GC1Y-oODG_R0",
        "outputId": "e938e4de-37d2-4d6a-a2f0-b71b541974a2"
      },
      "execution_count": null,
      "outputs": [
        {
          "output_type": "execute_result",
          "data": {
            "text/plain": [
              "DecisionTreeClassifier()"
            ]
          },
          "metadata": {},
          "execution_count": 61
        }
      ]
    },
    {
      "cell_type": "code",
      "source": [
        "\n",
        "y_prediction = dt.predict(x_test)\n",
        "y_prediction"
      ],
      "metadata": {
        "colab": {
          "base_uri": "https://localhost:8080/"
        },
        "id": "p7R_Kpi_HG3d",
        "outputId": "53cd99b0-a6e8-4c94-9c83-1c57efa3598e"
      },
      "execution_count": null,
      "outputs": [
        {
          "output_type": "execute_result",
          "data": {
            "text/plain": [
              "array([0, 1, 0, 1, 1, 0, 0, 1, 0, 1, 1, 0, 0, 1, 1, 0, 1, 0, 1, 0, 1, 1,\n",
              "       1, 1, 1, 0])"
            ]
          },
          "metadata": {},
          "execution_count": 62
        }
      ]
    },
    {
      "cell_type": "code",
      "source": [
        "print(\"Training Accuracy :\", dt.score(x_train, y_train))\n",
        "print(\"Testing Accuracy :\", dt.score(x_test, y_test))"
      ],
      "metadata": {
        "colab": {
          "base_uri": "https://localhost:8080/"
        },
        "id": "e_pI5OjBHKGb",
        "outputId": "e5dad3b9-5c93-4583-f7b0-6c813a1c771d"
      },
      "execution_count": null,
      "outputs": [
        {
          "output_type": "stream",
          "name": "stdout",
          "text": [
            "Training Accuracy : 1.0\n",
            "Testing Accuracy : 0.9230769230769231\n"
          ]
        }
      ]
    },
    {
      "cell_type": "code",
      "source": [
        "from tensorflow.keras.wrappers.scikit_learn import KerasClassifier\n",
        "from sklearn.model_selection import cross_val_score\n",
        "from tensorflow.keras.models import Sequential \n",
        "# initialize neural network library from tensorflow.keras.layers import Dense # build our layers library"
      ],
      "metadata": {
        "id": "PeOkFASoHPGA"
      },
      "execution_count": null,
      "outputs": []
    },
    {
      "cell_type": "code",
      "source": [
        "def build_classifier():\n",
        "  return classifier"
      ],
      "metadata": {
        "id": "WcuzJ22UIgEN"
      },
      "execution_count": null,
      "outputs": []
    },
    {
      "cell_type": "code",
      "source": [
        "classifier = KerasClassifier(build_fn = build_classifier, epochs = 50)\n",
        "accuracies = cross_val_score(estimator = classifier, X = x_train, y = y_train, cv = 2)\n",
        "mean = accuracies.mean()\n",
        "variance = accuracies.std()"
      ],
      "metadata": {
        "id": "sj9Ox56SIQzp"
      },
      "execution_count": null,
      "outputs": []
    },
    {
      "cell_type": "code",
      "source": [
        "print(\"Accuracy mean: \"+ str(mean))"
      ],
      "metadata": {
        "id": "sMFhGP9RInq0",
        "outputId": "0f2b8194-cafd-4330-c2cb-043e55386469",
        "colab": {
          "base_uri": "https://localhost:8080/"
        }
      },
      "execution_count": null,
      "outputs": [
        {
          "output_type": "stream",
          "name": "stdout",
          "text": [
            "Accuracy mean: nan\n"
          ]
        }
      ]
    }
  ]
}